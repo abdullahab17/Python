{
  "nbformat": 4,
  "nbformat_minor": 0,
  "metadata": {
    "colab": {
      "provenance": []
    },
    "kernelspec": {
      "name": "python3",
      "display_name": "Python 3"
    },
    "language_info": {
      "name": "python"
    }
  },
  "cells": [
    {
      "cell_type": "code",
      "execution_count": 6,
      "metadata": {
        "id": "AzH0amHmeco_"
      },
      "outputs": [],
      "source": [
        "import numpy as np\n",
        "import pandas as pd"
      ]
    },
    {
      "cell_type": "code",
      "source": [
        "from google.colab import files\n",
        "files.upload()"
      ],
      "metadata": {
        "colab": {
          "base_uri": "https://localhost:8080/",
          "height": 1000
        },
        "id": "i2lKgrqOh7Ao",
        "outputId": "b6c011bf-39a2-4b43-99e3-40f6dc89947d"
      },
      "execution_count": 4,
      "outputs": [
        {
          "output_type": "display_data",
          "data": {
            "text/plain": [
              "<IPython.core.display.HTML object>"
            ],
            "text/html": [
              "\n",
              "     <input type=\"file\" id=\"files-e4421797-3000-4177-b17e-ab7aee4a6d2c\" name=\"files[]\" multiple disabled\n",
              "        style=\"border:none\" />\n",
              "     <output id=\"result-e4421797-3000-4177-b17e-ab7aee4a6d2c\">\n",
              "      Upload widget is only available when the cell has been executed in the\n",
              "      current browser session. Please rerun this cell to enable.\n",
              "      </output>\n",
              "      <script>// Copyright 2017 Google LLC\n",
              "//\n",
              "// Licensed under the Apache License, Version 2.0 (the \"License\");\n",
              "// you may not use this file except in compliance with the License.\n",
              "// You may obtain a copy of the License at\n",
              "//\n",
              "//      http://www.apache.org/licenses/LICENSE-2.0\n",
              "//\n",
              "// Unless required by applicable law or agreed to in writing, software\n",
              "// distributed under the License is distributed on an \"AS IS\" BASIS,\n",
              "// WITHOUT WARRANTIES OR CONDITIONS OF ANY KIND, either express or implied.\n",
              "// See the License for the specific language governing permissions and\n",
              "// limitations under the License.\n",
              "\n",
              "/**\n",
              " * @fileoverview Helpers for google.colab Python module.\n",
              " */\n",
              "(function(scope) {\n",
              "function span(text, styleAttributes = {}) {\n",
              "  const element = document.createElement('span');\n",
              "  element.textContent = text;\n",
              "  for (const key of Object.keys(styleAttributes)) {\n",
              "    element.style[key] = styleAttributes[key];\n",
              "  }\n",
              "  return element;\n",
              "}\n",
              "\n",
              "// Max number of bytes which will be uploaded at a time.\n",
              "const MAX_PAYLOAD_SIZE = 100 * 1024;\n",
              "\n",
              "function _uploadFiles(inputId, outputId) {\n",
              "  const steps = uploadFilesStep(inputId, outputId);\n",
              "  const outputElement = document.getElementById(outputId);\n",
              "  // Cache steps on the outputElement to make it available for the next call\n",
              "  // to uploadFilesContinue from Python.\n",
              "  outputElement.steps = steps;\n",
              "\n",
              "  return _uploadFilesContinue(outputId);\n",
              "}\n",
              "\n",
              "// This is roughly an async generator (not supported in the browser yet),\n",
              "// where there are multiple asynchronous steps and the Python side is going\n",
              "// to poll for completion of each step.\n",
              "// This uses a Promise to block the python side on completion of each step,\n",
              "// then passes the result of the previous step as the input to the next step.\n",
              "function _uploadFilesContinue(outputId) {\n",
              "  const outputElement = document.getElementById(outputId);\n",
              "  const steps = outputElement.steps;\n",
              "\n",
              "  const next = steps.next(outputElement.lastPromiseValue);\n",
              "  return Promise.resolve(next.value.promise).then((value) => {\n",
              "    // Cache the last promise value to make it available to the next\n",
              "    // step of the generator.\n",
              "    outputElement.lastPromiseValue = value;\n",
              "    return next.value.response;\n",
              "  });\n",
              "}\n",
              "\n",
              "/**\n",
              " * Generator function which is called between each async step of the upload\n",
              " * process.\n",
              " * @param {string} inputId Element ID of the input file picker element.\n",
              " * @param {string} outputId Element ID of the output display.\n",
              " * @return {!Iterable<!Object>} Iterable of next steps.\n",
              " */\n",
              "function* uploadFilesStep(inputId, outputId) {\n",
              "  const inputElement = document.getElementById(inputId);\n",
              "  inputElement.disabled = false;\n",
              "\n",
              "  const outputElement = document.getElementById(outputId);\n",
              "  outputElement.innerHTML = '';\n",
              "\n",
              "  const pickedPromise = new Promise((resolve) => {\n",
              "    inputElement.addEventListener('change', (e) => {\n",
              "      resolve(e.target.files);\n",
              "    });\n",
              "  });\n",
              "\n",
              "  const cancel = document.createElement('button');\n",
              "  inputElement.parentElement.appendChild(cancel);\n",
              "  cancel.textContent = 'Cancel upload';\n",
              "  const cancelPromise = new Promise((resolve) => {\n",
              "    cancel.onclick = () => {\n",
              "      resolve(null);\n",
              "    };\n",
              "  });\n",
              "\n",
              "  // Wait for the user to pick the files.\n",
              "  const files = yield {\n",
              "    promise: Promise.race([pickedPromise, cancelPromise]),\n",
              "    response: {\n",
              "      action: 'starting',\n",
              "    }\n",
              "  };\n",
              "\n",
              "  cancel.remove();\n",
              "\n",
              "  // Disable the input element since further picks are not allowed.\n",
              "  inputElement.disabled = true;\n",
              "\n",
              "  if (!files) {\n",
              "    return {\n",
              "      response: {\n",
              "        action: 'complete',\n",
              "      }\n",
              "    };\n",
              "  }\n",
              "\n",
              "  for (const file of files) {\n",
              "    const li = document.createElement('li');\n",
              "    li.append(span(file.name, {fontWeight: 'bold'}));\n",
              "    li.append(span(\n",
              "        `(${file.type || 'n/a'}) - ${file.size} bytes, ` +\n",
              "        `last modified: ${\n",
              "            file.lastModifiedDate ? file.lastModifiedDate.toLocaleDateString() :\n",
              "                                    'n/a'} - `));\n",
              "    const percent = span('0% done');\n",
              "    li.appendChild(percent);\n",
              "\n",
              "    outputElement.appendChild(li);\n",
              "\n",
              "    const fileDataPromise = new Promise((resolve) => {\n",
              "      const reader = new FileReader();\n",
              "      reader.onload = (e) => {\n",
              "        resolve(e.target.result);\n",
              "      };\n",
              "      reader.readAsArrayBuffer(file);\n",
              "    });\n",
              "    // Wait for the data to be ready.\n",
              "    let fileData = yield {\n",
              "      promise: fileDataPromise,\n",
              "      response: {\n",
              "        action: 'continue',\n",
              "      }\n",
              "    };\n",
              "\n",
              "    // Use a chunked sending to avoid message size limits. See b/62115660.\n",
              "    let position = 0;\n",
              "    do {\n",
              "      const length = Math.min(fileData.byteLength - position, MAX_PAYLOAD_SIZE);\n",
              "      const chunk = new Uint8Array(fileData, position, length);\n",
              "      position += length;\n",
              "\n",
              "      const base64 = btoa(String.fromCharCode.apply(null, chunk));\n",
              "      yield {\n",
              "        response: {\n",
              "          action: 'append',\n",
              "          file: file.name,\n",
              "          data: base64,\n",
              "        },\n",
              "      };\n",
              "\n",
              "      let percentDone = fileData.byteLength === 0 ?\n",
              "          100 :\n",
              "          Math.round((position / fileData.byteLength) * 100);\n",
              "      percent.textContent = `${percentDone}% done`;\n",
              "\n",
              "    } while (position < fileData.byteLength);\n",
              "  }\n",
              "\n",
              "  // All done.\n",
              "  yield {\n",
              "    response: {\n",
              "      action: 'complete',\n",
              "    }\n",
              "  };\n",
              "}\n",
              "\n",
              "scope.google = scope.google || {};\n",
              "scope.google.colab = scope.google.colab || {};\n",
              "scope.google.colab._files = {\n",
              "  _uploadFiles,\n",
              "  _uploadFilesContinue,\n",
              "};\n",
              "})(self);\n",
              "</script> "
            ]
          },
          "metadata": {}
        },
        {
          "output_type": "stream",
          "name": "stdout",
          "text": [
            "Saving food_consumption.csv to food_consumption.csv\n"
          ]
        },
        {
          "output_type": "execute_result",
          "data": {
            "text/plain": [
              "{'food_consumption.csv': b'\"\",\"country\",\"food_category\",\"consumption\",\"co2_emission\"\\n\"1\",\"Argentina\",\"pork\",10.51,37.2\\n\"2\",\"Argentina\",\"poultry\",38.66,41.53\\n\"3\",\"Argentina\",\"beef\",55.48,1712\\n\"4\",\"Argentina\",\"lamb_goat\",1.56,54.63\\n\"5\",\"Argentina\",\"fish\",4.36,6.96\\n\"6\",\"Argentina\",\"eggs\",11.39,10.46\\n\"7\",\"Argentina\",\"dairy\",195.08,277.87\\n\"8\",\"Argentina\",\"wheat\",103.11,19.66\\n\"9\",\"Argentina\",\"rice\",8.77,11.22\\n\"10\",\"Argentina\",\"soybeans\",0,0\\n\"11\",\"Argentina\",\"nuts\",0.49,0.87\\n\"12\",\"Australia\",\"pork\",24.14,85.44\\n\"13\",\"Australia\",\"poultry\",46.12,49.54\\n\"14\",\"Australia\",\"beef\",33.86,1044.85\\n\"15\",\"Australia\",\"lamb_goat\",9.87,345.65\\n\"16\",\"Australia\",\"fish\",17.69,28.25\\n\"17\",\"Australia\",\"eggs\",8.51,7.82\\n\"18\",\"Australia\",\"dairy\",234.49,334.01\\n\"19\",\"Australia\",\"wheat\",70.46,13.44\\n\"20\",\"Australia\",\"rice\",11.03,14.12\\n\"21\",\"Australia\",\"soybeans\",0.19,0.09\\n\"22\",\"Australia\",\"nuts\",8.73,15.45\\n\"23\",\"Albania\",\"pork\",10.88,38.51\\n\"24\",\"Albania\",\"poultry\",13.23,14.21\\n\"25\",\"Albania\",\"beef\",22.5,694.3\\n\"26\",\"Albania\",\"lamb_goat\",15.32,536.5\\n\"27\",\"Albania\",\"fish\",3.85,6.15\\n\"28\",\"Albania\",\"eggs\",12.45,11.44\\n\"29\",\"Albania\",\"dairy\",303.72,432.62\\n\"30\",\"Albania\",\"wheat\",138.64,26.44\\n\"31\",\"Albania\",\"rice\",7.78,9.96\\n\"32\",\"Albania\",\"soybeans\",0,0\\n\"33\",\"Albania\",\"nuts\",4.36,7.72\\n\"34\",\"Iceland\",\"pork\",21.69,76.77\\n\"35\",\"Iceland\",\"poultry\",26.87,28.86\\n\"36\",\"Iceland\",\"beef\",13.36,412.26\\n\"37\",\"Iceland\",\"lamb_goat\",21.12,739.62\\n\"38\",\"Iceland\",\"fish\",74.41,118.81\\n\"39\",\"Iceland\",\"eggs\",8.24,7.57\\n\"40\",\"Iceland\",\"dairy\",225.82,321.66\\n\"41\",\"Iceland\",\"wheat\",72.92,13.91\\n\"42\",\"Iceland\",\"rice\",3.89,4.98\\n\"43\",\"Iceland\",\"soybeans\",0.11,0.05\\n\"44\",\"Iceland\",\"nuts\",3.88,6.87\\n\"45\",\"New Zealand\",\"pork\",22.29,78.9\\n\"46\",\"New Zealand\",\"poultry\",34.98,37.58\\n\"47\",\"New Zealand\",\"beef\",22.49,693.99\\n\"48\",\"New Zealand\",\"lamb_goat\",18.91,662.23\\n\"49\",\"New Zealand\",\"fish\",20.36,32.51\\n\"50\",\"New Zealand\",\"eggs\",9.91,9.1\\n\"51\",\"New Zealand\",\"dairy\",137.25,195.5\\n\"52\",\"New Zealand\",\"wheat\",76.91,14.67\\n\"53\",\"New Zealand\",\"rice\",9.16,11.72\\n\"54\",\"New Zealand\",\"soybeans\",0.44,0.2\\n\"55\",\"New Zealand\",\"nuts\",8.22,14.55\\n\"56\",\"USA\",\"pork\",27.64,97.83\\n\"57\",\"USA\",\"poultry\",50.01,53.72\\n\"58\",\"USA\",\"beef\",36.24,1118.29\\n\"59\",\"USA\",\"lamb_goat\",0.43,15.06\\n\"60\",\"USA\",\"fish\",12.35,19.72\\n\"61\",\"USA\",\"eggs\",14.58,13.39\\n\"62\",\"USA\",\"dairy\",254.69,362.78\\n\"63\",\"USA\",\"wheat\",80.43,15.34\\n\"64\",\"USA\",\"rice\",6.88,8.8\\n\"65\",\"USA\",\"soybeans\",0.04,0.02\\n\"66\",\"USA\",\"nuts\",7.86,13.91\\n\"67\",\"Uruguay\",\"pork\",16.84,59.61\\n\"68\",\"Uruguay\",\"poultry\",27.45,29.49\\n\"69\",\"Uruguay\",\"beef\",29.1,897.96\\n\"70\",\"Uruguay\",\"lamb_goat\",8.23,288.21\\n\"71\",\"Uruguay\",\"fish\",6.53,10.43\\n\"72\",\"Uruguay\",\"eggs\",13.14,12.07\\n\"73\",\"Uruguay\",\"dairy\",210.54,299.89\\n\"74\",\"Uruguay\",\"wheat\",109.31,20.85\\n\"75\",\"Uruguay\",\"rice\",11.5,14.72\\n\"76\",\"Uruguay\",\"soybeans\",0.01,0\\n\"77\",\"Uruguay\",\"nuts\",0.95,1.68\\n\"78\",\"Luxembourg\",\"pork\",43.58,154.25\\n\"79\",\"Luxembourg\",\"poultry\",21.37,22.96\\n\"80\",\"Luxembourg\",\"beef\",29.88,922.03\\n\"81\",\"Luxembourg\",\"lamb_goat\",1.67,58.48\\n\"82\",\"Luxembourg\",\"fish\",23.09,36.87\\n\"83\",\"Luxembourg\",\"eggs\",14.64,13.45\\n\"84\",\"Luxembourg\",\"dairy\",255.3,363.65\\n\"85\",\"Luxembourg\",\"wheat\",103.2,19.68\\n\"86\",\"Luxembourg\",\"rice\",4.2,5.37\\n\"87\",\"Luxembourg\",\"soybeans\",0.04,0.02\\n\"88\",\"Luxembourg\",\"nuts\",0.93,1.65\\n\"89\",\"Brazil\",\"pork\",12.6,44.6\\n\"90\",\"Brazil\",\"poultry\",45,48.34\\n\"91\",\"Brazil\",\"beef\",39.25,1211.17\\n\"92\",\"Brazil\",\"lamb_goat\",0.62,21.71\\n\"93\",\"Brazil\",\"fish\",10.01,15.98\\n\"94\",\"Brazil\",\"eggs\",8.98,8.25\\n\"95\",\"Brazil\",\"dairy\",149.28,212.63\\n\"96\",\"Brazil\",\"wheat\",53,10.11\\n\"97\",\"Brazil\",\"rice\",32.13,41.12\\n\"98\",\"Brazil\",\"soybeans\",3.62,1.63\\n\"99\",\"Brazil\",\"nuts\",0.67,1.19\\n\"100\",\"Kazakhstan\",\"pork\",10.36,36.67\\n\"101\",\"Kazakhstan\",\"poultry\",18.38,19.74\\n\"102\",\"Kazakhstan\",\"beef\",23.38,721.46\\n\"103\",\"Kazakhstan\",\"lamb_goat\",9.56,334.79\\n\"104\",\"Kazakhstan\",\"fish\",5.21,8.32\\n\"105\",\"Kazakhstan\",\"eggs\",8.29,7.62\\n\"106\",\"Kazakhstan\",\"dairy\",288.12,410.4\\n\"107\",\"Kazakhstan\",\"wheat\",92.31,17.6\\n\"108\",\"Kazakhstan\",\"rice\",7.32,9.37\\n\"109\",\"Kazakhstan\",\"soybeans\",0.03,0.01\\n\"110\",\"Kazakhstan\",\"nuts\",5.14,9.1\\n\"111\",\"Sweden\",\"pork\",37,130.96\\n\"112\",\"Sweden\",\"poultry\",16.64,17.87\\n\"113\",\"Sweden\",\"beef\",24.58,758.49\\n\"114\",\"Sweden\",\"lamb_goat\",1.41,49.38\\n\"115\",\"Sweden\",\"fish\",23.86,38.1\\n\"116\",\"Sweden\",\"eggs\",13.37,12.28\\n\"117\",\"Sweden\",\"dairy\",341.23,486.05\\n\"118\",\"Sweden\",\"wheat\",79.59,15.18\\n\"119\",\"Sweden\",\"rice\",5.96,7.63\\n\"120\",\"Sweden\",\"soybeans\",0.13,0.06\\n\"121\",\"Sweden\",\"nuts\",6.23,11.03\\n\"122\",\"Bermuda\",\"pork\",28.24,99.96\\n\"123\",\"Bermuda\",\"poultry\",32.62,35.04\\n\"124\",\"Bermuda\",\"beef\",33.15,1022.94\\n\"125\",\"Bermuda\",\"lamb_goat\",2.71,94.9\\n\"126\",\"Bermuda\",\"fish\",33.22,53.04\\n\"127\",\"Bermuda\",\"eggs\",14.92,13.71\\n\"128\",\"Bermuda\",\"dairy\",95.56,136.12\\n\"129\",\"Bermuda\",\"wheat\",54.88,10.47\\n\"130\",\"Bermuda\",\"rice\",5.38,6.88\\n\"131\",\"Bermuda\",\"soybeans\",0.22,0.1\\n\"132\",\"Bermuda\",\"nuts\",5.72,10.12\\n\"133\",\"Denmark\",\"pork\",24.87,88.03\\n\"134\",\"Denmark\",\"poultry\",26.75,28.73\\n\"135\",\"Denmark\",\"beef\",28.46,878.22\\n\"136\",\"Denmark\",\"lamb_goat\",0.92,32.22\\n\"137\",\"Denmark\",\"fish\",16.49,26.33\\n\"138\",\"Denmark\",\"eggs\",15.35,14.1\\n\"139\",\"Denmark\",\"dairy\",277.3,394.99\\n\"140\",\"Denmark\",\"wheat\",98,18.69\\n\"141\",\"Denmark\",\"rice\",4.96,6.35\\n\"142\",\"Denmark\",\"soybeans\",0.03,0.01\\n\"143\",\"Denmark\",\"nuts\",5.94,10.51\\n\"144\",\"Finland\",\"pork\",36.14,127.92\\n\"145\",\"Finland\",\"poultry\",19.87,21.34\\n\"146\",\"Finland\",\"beef\",19.22,593.09\\n\"147\",\"Finland\",\"lamb_goat\",0.53,18.56\\n\"148\",\"Finland\",\"fish\",33.8,53.97\\n\"149\",\"Finland\",\"eggs\",9.55,8.77\\n\"150\",\"Finland\",\"dairy\",430.76,613.57\\n\"151\",\"Finland\",\"wheat\",81.99,15.64\\n\"152\",\"Finland\",\"rice\",4.42,5.66\\n\"153\",\"Finland\",\"soybeans\",0.08,0.04\\n\"154\",\"Finland\",\"nuts\",3.43,6.07\\n\"155\",\"Ireland\",\"pork\",32.4,114.68\\n\"156\",\"Ireland\",\"poultry\",26.26,28.21\\n\"157\",\"Ireland\",\"beef\",22.35,689.67\\n\"158\",\"Ireland\",\"lamb_goat\",4.1,143.58\\n\"159\",\"Ireland\",\"fish\",17.39,27.77\\n\"160\",\"Ireland\",\"eggs\",8.96,8.23\\n\"161\",\"Ireland\",\"dairy\",291.86,415.73\\n\"162\",\"Ireland\",\"wheat\",107.98,20.59\\n\"163\",\"Ireland\",\"rice\",3,3.84\\n\"164\",\"Ireland\",\"soybeans\",0.25,0.11\\n\"165\",\"Ireland\",\"nuts\",4.1,7.26\\n\"166\",\"Greece\",\"pork\",28.31,100.2\\n\"167\",\"Greece\",\"poultry\",15.74,16.91\\n\"168\",\"Greece\",\"beef\",16.1,496.81\\n\"169\",\"Greece\",\"lamb_goat\",12.47,436.7\\n\"170\",\"Greece\",\"fish\",14.42,23.02\\n\"171\",\"Greece\",\"eggs\",10.13,9.31\\n\"172\",\"Greece\",\"dairy\",255.26,363.59\\n\"173\",\"Greece\",\"wheat\",124.04,23.65\\n\"174\",\"Greece\",\"rice\",6.64,8.5\\n\"175\",\"Greece\",\"soybeans\",0.02,0.01\\n\"176\",\"Greece\",\"nuts\",10.5,18.59\\n\"177\",\"France\",\"pork\",33.05,116.98\\n\"178\",\"France\",\"poultry\",22.93,24.63\\n\"179\",\"France\",\"beef\",23.81,734.73\\n\"180\",\"France\",\"lamb_goat\",3.28,114.87\\n\"181\",\"France\",\"fish\",22.91,36.58\\n\"182\",\"France\",\"eggs\",13.13,12.06\\n\"183\",\"France\",\"dairy\",241.31,343.72\\n\"184\",\"France\",\"wheat\",108.43,20.68\\n\"185\",\"France\",\"rice\",4.88,6.24\\n\"186\",\"France\",\"soybeans\",0.05,0.02\\n\"187\",\"France\",\"nuts\",5.39,9.54\\n\"188\",\"Canada\",\"pork\",22.81,80.74\\n\"189\",\"Canada\",\"poultry\",36.68,39.4\\n\"190\",\"Canada\",\"beef\",30.25,933.45\\n\"191\",\"Canada\",\"lamb_goat\",0.97,33.97\\n\"192\",\"Canada\",\"fish\",14.56,23.25\\n\"193\",\"Canada\",\"eggs\",12.95,11.9\\n\"194\",\"Canada\",\"dairy\",187.77,267.46\\n\"195\",\"Canada\",\"wheat\",84.96,16.2\\n\"196\",\"Canada\",\"rice\",12.65,16.19\\n\"197\",\"Canada\",\"soybeans\",0.94,0.42\\n\"198\",\"Canada\",\"nuts\",8.01,14.18\\n\"199\",\"Norway\",\"pork\",23.51,83.21\\n\"200\",\"Norway\",\"poultry\",21.01,22.57\\n\"201\",\"Norway\",\"beef\",19.83,611.91\\n\"202\",\"Norway\",\"lamb_goat\",5.34,187.01\\n\"203\",\"Norway\",\"fish\",38.18,60.96\\n\"204\",\"Norway\",\"eggs\",11.41,10.48\\n\"205\",\"Norway\",\"dairy\",261.34,372.25\\n\"206\",\"Norway\",\"wheat\",97.12,18.52\\n\"207\",\"Norway\",\"rice\",4.36,5.58\\n\"208\",\"Norway\",\"soybeans\",0.11,0.05\\n\"209\",\"Norway\",\"nuts\",5.28,9.35\\n\"210\",\"Hong Kong SAR. China\",\"pork\",67.11,237.54\\n\"211\",\"Hong Kong SAR. China\",\"poultry\",54.86,58.93\\n\"212\",\"Hong Kong SAR. China\",\"beef\",25.82,796.75\\n\"213\",\"Hong Kong SAR. China\",\"lamb_goat\",2.22,77.74\\n\"214\",\"Hong Kong SAR. China\",\"fish\",42.44,67.76\\n\"215\",\"Hong Kong SAR. China\",\"eggs\",14.5,13.32\\n\"216\",\"Hong Kong SAR. China\",\"dairy\",105.85,150.77\\n\"217\",\"Hong Kong SAR. China\",\"wheat\",53.14,10.13\\n\"218\",\"Hong Kong SAR. China\",\"rice\",43.48,55.64\\n\"219\",\"Hong Kong SAR. China\",\"soybeans\",2.79,1.26\\n\"220\",\"Hong Kong SAR. China\",\"nuts\",13.81,24.44\\n\"221\",\"French Polynesia\",\"pork\",14.75,52.21\\n\"222\",\"French Polynesia\",\"poultry\",49.55,53.23\\n\"223\",\"French Polynesia\",\"beef\",30.9,953.51\\n\"224\",\"French Polynesia\",\"lamb_goat\",2.83,99.11\\n\"225\",\"French Polynesia\",\"fish\",38.95,62.19\\n\"226\",\"French Polynesia\",\"eggs\",8.75,8.04\\n\"227\",\"French Polynesia\",\"dairy\",93.56,133.27\\n\"228\",\"French Polynesia\",\"wheat\",68.67,13.1\\n\"229\",\"French Polynesia\",\"rice\",35.59,45.54\\n\"230\",\"French Polynesia\",\"soybeans\",0.77,0.35\\n\"231\",\"French Polynesia\",\"nuts\",2.34,4.14\\n\"232\",\"Israel\",\"pork\",1.99,7.04\\n\"233\",\"Israel\",\"poultry\",62.5,67.14\\n\"234\",\"Israel\",\"beef\",28.78,888.09\\n\"235\",\"Israel\",\"lamb_goat\",1.87,65.49\\n\"236\",\"Israel\",\"fish\",22.18,35.41\\n\"237\",\"Israel\",\"eggs\",11.35,10.43\\n\"238\",\"Israel\",\"dairy\",193.6,275.76\\n\"239\",\"Israel\",\"wheat\",110.86,21.14\\n\"240\",\"Israel\",\"rice\",16.81,21.51\\n\"241\",\"Israel\",\"soybeans\",0.1,0.05\\n\"242\",\"Israel\",\"nuts\",7.71,13.65\\n\"243\",\"Switzerland\",\"pork\",31.49,111.46\\n\"244\",\"Switzerland\",\"poultry\",16.38,17.6\\n\"245\",\"Switzerland\",\"beef\",21.26,656.04\\n\"246\",\"Switzerland\",\"lamb_goat\",1.42,49.73\\n\"247\",\"Switzerland\",\"fish\",13.48,21.52\\n\"248\",\"Switzerland\",\"eggs\",10.53,9.67\\n\"249\",\"Switzerland\",\"dairy\",318.69,453.94\\n\"250\",\"Switzerland\",\"wheat\",89.51,17.07\\n\"251\",\"Switzerland\",\"rice\",2.43,3.11\\n\"252\",\"Switzerland\",\"soybeans\",0.44,0.2\\n\"253\",\"Switzerland\",\"nuts\",9.27,16.41\\n\"254\",\"Netherlands\",\"pork\",36.36,128.7\\n\"255\",\"Netherlands\",\"poultry\",23.9,25.67\\n\"256\",\"Netherlands\",\"beef\",17.67,545.26\\n\"257\",\"Netherlands\",\"lamb_goat\",0.94,32.92\\n\"258\",\"Netherlands\",\"fish\",18.64,29.76\\n\"259\",\"Netherlands\",\"eggs\",14.03,12.89\\n\"260\",\"Netherlands\",\"dairy\",341.47,486.39\\n\"261\",\"Netherlands\",\"wheat\",70.17,13.38\\n\"262\",\"Netherlands\",\"rice\",2.93,3.75\\n\"263\",\"Netherlands\",\"soybeans\",0.12,0.05\\n\"264\",\"Netherlands\",\"nuts\",7.94,14.05\\n\"265\",\"Kuwait\",\"pork\",0,0\\n\"266\",\"Kuwait\",\"poultry\",53.61,57.59\\n\"267\",\"Kuwait\",\"beef\",13.03,402.08\\n\"268\",\"Kuwait\",\"lamb_goat\",15.61,546.66\\n\"269\",\"Kuwait\",\"fish\",11.99,19.14\\n\"270\",\"Kuwait\",\"eggs\",12.6,11.57\\n\"271\",\"Kuwait\",\"dairy\",157.66,224.57\\n\"272\",\"Kuwait\",\"wheat\",96.76,18.45\\n\"273\",\"Kuwait\",\"rice\",43.83,56.09\\n\"274\",\"Kuwait\",\"soybeans\",0.06,0.03\\n\"275\",\"Kuwait\",\"nuts\",5.23,9.26\\n\"276\",\"United Kingdom\",\"pork\",25.79,91.28\\n\"277\",\"United Kingdom\",\"poultry\",31.55,33.89\\n\"278\",\"United Kingdom\",\"beef\",18.12,559.15\\n\"279\",\"United Kingdom\",\"lamb_goat\",4.49,157.24\\n\"280\",\"United Kingdom\",\"fish\",15.49,24.73\\n\"281\",\"United Kingdom\",\"eggs\",11.08,10.18\\n\"282\",\"United Kingdom\",\"dairy\",232.2,330.75\\n\"283\",\"United Kingdom\",\"wheat\",98.63,18.81\\n\"284\",\"United Kingdom\",\"rice\",6.39,8.18\\n\"285\",\"United Kingdom\",\"soybeans\",0.05,0.02\\n\"286\",\"United Kingdom\",\"nuts\",4.18,7.4\\n\"287\",\"Austria\",\"pork\",52.56,186.04\\n\"288\",\"Austria\",\"poultry\",18.61,19.99\\n\"289\",\"Austria\",\"beef\",17.14,528.9\\n\"290\",\"Austria\",\"lamb_goat\",1.16,40.62\\n\"291\",\"Austria\",\"fish\",12.16,19.42\\n\"292\",\"Austria\",\"eggs\",14.68,13.49\\n\"293\",\"Austria\",\"dairy\",258.09,367.62\\n\"294\",\"Austria\",\"wheat\",81.1,15.47\\n\"295\",\"Austria\",\"rice\",3.7,4.73\\n\"296\",\"Austria\",\"soybeans\",2.06,0.93\\n\"297\",\"Austria\",\"nuts\",7.88,13.95\\n\"298\",\"Oman\",\"pork\",0.01,0.04\\n\"299\",\"Oman\",\"poultry\",31.51,33.85\\n\"300\",\"Oman\",\"beef\",15.1,465.95\\n\"301\",\"Oman\",\"lamb_goat\",12.87,450.71\\n\"302\",\"Oman\",\"fish\",21.56,34.42\\n\"303\",\"Oman\",\"eggs\",7.8,7.17\\n\"304\",\"Oman\",\"dairy\",152.28,216.91\\n\"305\",\"Oman\",\"wheat\",64.1,12.22\\n\"306\",\"Oman\",\"rice\",56.55,72.37\\n\"307\",\"Oman\",\"soybeans\",0.21,0.09\\n\"308\",\"Oman\",\"nuts\",1.68,2.97\\n\"309\",\"Italy\",\"pork\",40.28,142.57\\n\"310\",\"Italy\",\"poultry\",18.61,19.99\\n\"311\",\"Italy\",\"beef\",18.6,573.96\\n\"312\",\"Italy\",\"lamb_goat\",0.92,32.22\\n\"313\",\"Italy\",\"fish\",15.6,24.91\\n\"314\",\"Italy\",\"eggs\",13.34,12.25\\n\"315\",\"Italy\",\"dairy\",246.88,351.66\\n\"316\",\"Italy\",\"wheat\",146.37,27.91\\n\"317\",\"Italy\",\"rice\",5.74,7.35\\n\"318\",\"Italy\",\"soybeans\",0.01,0\\n\"319\",\"Italy\",\"nuts\",7.63,13.51\\n\"320\",\"Bahamas\",\"pork\",32.74,115.88\\n\"321\",\"Bahamas\",\"poultry\",45.74,49.13\\n\"322\",\"Bahamas\",\"beef\",19.92,614.69\\n\"323\",\"Bahamas\",\"lamb_goat\",5.22,182.8\\n\"324\",\"Bahamas\",\"fish\",18.8,30.02\\n\"325\",\"Bahamas\",\"eggs\",6.2,5.7\\n\"326\",\"Bahamas\",\"dairy\",104.76,149.22\\n\"327\",\"Bahamas\",\"wheat\",39.98,7.62\\n\"328\",\"Bahamas\",\"rice\",23.97,30.67\\n\"329\",\"Bahamas\",\"soybeans\",0.09,0.04\\n\"330\",\"Bahamas\",\"nuts\",4.03,7.13\\n\"331\",\"Portugal\",\"pork\",37.91,134.18\\n\"332\",\"Portugal\",\"poultry\",30.14,32.38\\n\"333\",\"Portugal\",\"beef\",16.45,507.61\\n\"334\",\"Portugal\",\"lamb_goat\",2.38,83.35\\n\"335\",\"Portugal\",\"fish\",45.39,72.47\\n\"336\",\"Portugal\",\"eggs\",9.05,8.31\\n\"337\",\"Portugal\",\"dairy\",205.04,292.06\\n\"338\",\"Portugal\",\"wheat\",94.3,17.98\\n\"339\",\"Portugal\",\"rice\",14.86,19.02\\n\"340\",\"Portugal\",\"soybeans\",0.01,0\\n\"341\",\"Portugal\",\"nuts\",3.91,6.92\\n\"342\",\"Malta\",\"pork\",34.24,121.19\\n\"343\",\"Malta\",\"poultry\",26.4,28.36\\n\"344\",\"Malta\",\"beef\",19.22,593.09\\n\"345\",\"Malta\",\"lamb_goat\",1.19,41.67\\n\"346\",\"Malta\",\"fish\",24.58,39.25\\n\"347\",\"Malta\",\"eggs\",11.64,10.69\\n\"348\",\"Malta\",\"dairy\",190.06,270.72\\n\"349\",\"Malta\",\"wheat\",139.58,26.62\\n\"350\",\"Malta\",\"rice\",4.96,6.35\\n\"351\",\"Malta\",\"soybeans\",0.05,0.02\\n\"352\",\"Malta\",\"nuts\",5.62,9.95\\n\"353\",\"Armenia\",\"pork\",9.67,34.23\\n\"354\",\"Armenia\",\"poultry\",13.35,14.34\\n\"355\",\"Armenia\",\"beef\",19.66,606.67\\n\"356\",\"Armenia\",\"lamb_goat\",3.02,105.76\\n\"357\",\"Armenia\",\"fish\",4.36,6.96\\n\"358\",\"Armenia\",\"eggs\",11.69,10.74\\n\"359\",\"Armenia\",\"dairy\",209.03,297.74\\n\"360\",\"Armenia\",\"wheat\",130.6,24.91\\n\"361\",\"Armenia\",\"rice\",3.18,4.07\\n\"362\",\"Armenia\",\"soybeans\",0,0\\n\"363\",\"Armenia\",\"nuts\",2.55,4.51\\n\"364\",\"Slovenia\",\"pork\",28.19,99.78\\n\"365\",\"Slovenia\",\"poultry\",23.46,25.2\\n\"366\",\"Slovenia\",\"beef\",18.43,568.71\\n\"367\",\"Slovenia\",\"lamb_goat\",0.79,27.67\\n\"368\",\"Slovenia\",\"fish\",7.76,12.39\\n\"369\",\"Slovenia\",\"eggs\",9.36,8.6\\n\"370\",\"Slovenia\",\"dairy\",235.01,334.75\\n\"371\",\"Slovenia\",\"wheat\",103.43,19.72\\n\"372\",\"Slovenia\",\"rice\",3.95,5.05\\n\"373\",\"Slovenia\",\"soybeans\",0.75,0.34\\n\"374\",\"Slovenia\",\"nuts\",5.28,9.35\\n\"375\",\"Chile\",\"pork\",24.68,87.35\\n\"376\",\"Chile\",\"poultry\",36.52,39.23\\n\"377\",\"Chile\",\"beef\",23.86,736.27\\n\"378\",\"Chile\",\"lamb_goat\",0.42,14.71\\n\"379\",\"Chile\",\"fish\",7.65,12.21\\n\"380\",\"Chile\",\"eggs\",9.97,9.16\\n\"381\",\"Chile\",\"dairy\",116.11,165.39\\n\"382\",\"Chile\",\"wheat\",104.74,19.97\\n\"383\",\"Chile\",\"rice\",8.85,11.33\\n\"384\",\"Chile\",\"soybeans\",0.04,0.02\\n\"385\",\"Chile\",\"nuts\",2.22,3.93\\n\"386\",\"Venezuela\",\"pork\",7.23,25.59\\n\"387\",\"Venezuela\",\"poultry\",39.28,42.19\\n\"388\",\"Venezuela\",\"beef\",25.89,798.91\\n\"389\",\"Venezuela\",\"lamb_goat\",0.32,11.21\\n\"390\",\"Venezuela\",\"fish\",8.34,13.32\\n\"391\",\"Venezuela\",\"eggs\",5.63,5.17\\n\"392\",\"Venezuela\",\"dairy\",117.79,167.78\\n\"393\",\"Venezuela\",\"wheat\",49.17,9.38\\n\"394\",\"Venezuela\",\"rice\",23.39,29.93\\n\"395\",\"Venezuela\",\"soybeans\",0,0\\n\"396\",\"Venezuela\",\"nuts\",0.35,0.62\\n\"397\",\"Belgium\",\"pork\",38.65,136.8\\n\"398\",\"Belgium\",\"poultry\",12.2,13.11\\n\"399\",\"Belgium\",\"beef\",15.63,482.31\\n\"400\",\"Belgium\",\"lamb_goat\",1.32,46.23\\n\"401\",\"Belgium\",\"fish\",18.97,30.29\\n\"402\",\"Belgium\",\"eggs\",12.59,11.57\\n\"403\",\"Belgium\",\"dairy\",236.19,336.43\\n\"404\",\"Belgium\",\"wheat\",111.91,21.34\\n\"405\",\"Belgium\",\"rice\",8.61,11.02\\n\"406\",\"Belgium\",\"soybeans\",0.07,0.03\\n\"407\",\"Belgium\",\"nuts\",7.32,12.96\\n\"408\",\"Germany\",\"pork\",51.81,183.38\\n\"409\",\"Germany\",\"poultry\",17.75,19.07\\n\"410\",\"Germany\",\"beef\",13.16,406.09\\n\"411\",\"Germany\",\"lamb_goat\",0.73,25.56\\n\"412\",\"Germany\",\"fish\",11.16,17.82\\n\"413\",\"Germany\",\"eggs\",12.2,11.21\\n\"414\",\"Germany\",\"dairy\",258.7,368.49\\n\"415\",\"Germany\",\"wheat\",83.41,15.91\\n\"416\",\"Germany\",\"rice\",3.34,4.27\\n\"417\",\"Germany\",\"soybeans\",0.88,0.4\\n\"418\",\"Germany\",\"nuts\",7.96,14.09\\n\"419\",\"Russia\",\"pork\",25.66,90.82\\n\"420\",\"Russia\",\"poultry\",27.5,29.54\\n\"421\",\"Russia\",\"beef\",16.98,523.97\\n\"422\",\"Russia\",\"lamb_goat\",1.4,49.03\\n\"423\",\"Russia\",\"fish\",20.82,33.24\\n\"424\",\"Russia\",\"eggs\",15.43,14.17\\n\"425\",\"Russia\",\"dairy\",163.57,232.99\\n\"426\",\"Russia\",\"wheat\",130.99,24.98\\n\"427\",\"Russia\",\"rice\",4.71,6.03\\n\"428\",\"Russia\",\"soybeans\",0.05,0.02\\n\"429\",\"Russia\",\"nuts\",1.62,2.87\\n\"430\",\"Croatia\",\"pork\",42.79,151.46\\n\"431\",\"Croatia\",\"poultry\",8.52,9.15\\n\"432\",\"Croatia\",\"beef\",12.41,382.95\\n\"433\",\"Croatia\",\"lamb_goat\",1.71,59.88\\n\"434\",\"Croatia\",\"fish\",15.83,25.28\\n\"435\",\"Croatia\",\"eggs\",8.48,7.79\\n\"436\",\"Croatia\",\"dairy\",231.02,329.06\\n\"437\",\"Croatia\",\"wheat\",106.59,20.33\\n\"438\",\"Croatia\",\"rice\",2.64,3.38\\n\"439\",\"Croatia\",\"soybeans\",0,0\\n\"440\",\"Croatia\",\"nuts\",3.88,6.87\\n\"441\",\"Belarus\",\"pork\",40.37,142.89\\n\"442\",\"Belarus\",\"poultry\",31.29,33.61\\n\"443\",\"Belarus\",\"beef\",17.11,527.98\\n\"444\",\"Belarus\",\"lamb_goat\",0.11,3.85\\n\"445\",\"Belarus\",\"fish\",15.75,25.15\\n\"446\",\"Belarus\",\"eggs\",15.86,14.57\\n\"447\",\"Belarus\",\"dairy\",133.73,190.49\\n\"448\",\"Belarus\",\"wheat\",60.48,11.53\\n\"449\",\"Belarus\",\"rice\",3.17,4.06\\n\"450\",\"Belarus\",\"soybeans\",0.3,0.14\\n\"451\",\"Belarus\",\"nuts\",3.36,5.95\\n\"452\",\"Spain\",\"pork\",48.92,173.15\\n\"453\",\"Spain\",\"poultry\",28.63,30.75\\n\"454\",\"Spain\",\"beef\",12.15,374.92\\n\"455\",\"Spain\",\"lamb_goat\",2.16,75.64\\n\"456\",\"Spain\",\"fish\",28.83,46.03\\n\"457\",\"Spain\",\"eggs\",13.32,12.24\\n\"458\",\"Spain\",\"dairy\",164.29,234.01\\n\"459\",\"Spain\",\"wheat\",93.88,17.9\\n\"460\",\"Spain\",\"rice\",8.32,10.65\\n\"461\",\"Spain\",\"soybeans\",0.02,0.01\\n\"462\",\"Spain\",\"nuts\",7.44,13.17\\n\"463\",\"Paraguay\",\"pork\",26.24,92.88\\n\"464\",\"Paraguay\",\"poultry\",6.39,6.86\\n\"465\",\"Paraguay\",\"beef\",19.81,611.29\\n\"466\",\"Paraguay\",\"lamb_goat\",0.56,19.61\\n\"467\",\"Paraguay\",\"fish\",3.6,5.75\\n\"468\",\"Paraguay\",\"eggs\",18.83,17.3\\n\"469\",\"Paraguay\",\"dairy\",75.72,107.86\\n\"470\",\"Paraguay\",\"wheat\",31.51,6.01\\n\"471\",\"Paraguay\",\"rice\",4.91,6.28\\n\"472\",\"Paraguay\",\"soybeans\",0,0\\n\"473\",\"Paraguay\",\"nuts\",1.6,2.83\\n\"474\",\"New Caledonia\",\"pork\",19.9,70.44\\n\"475\",\"New Caledonia\",\"poultry\",44.36,47.65\\n\"476\",\"New Caledonia\",\"beef\",16.07,495.89\\n\"477\",\"New Caledonia\",\"lamb_goat\",1.95,68.29\\n\"478\",\"New Caledonia\",\"fish\",19.38,30.94\\n\"479\",\"New Caledonia\",\"eggs\",8.85,8.13\\n\"480\",\"New Caledonia\",\"dairy\",108,153.84\\n\"481\",\"New Caledonia\",\"wheat\",81.75,15.59\\n\"482\",\"New Caledonia\",\"rice\",17.47,22.36\\n\"483\",\"New Caledonia\",\"soybeans\",0.55,0.25\\n\"484\",\"New Caledonia\",\"nuts\",2.96,5.24\\n\"485\",\"South Africa\",\"pork\",4.16,14.72\\n\"486\",\"South Africa\",\"poultry\",37.57,40.36\\n\"487\",\"South Africa\",\"beef\",18.03,556.37\\n\"488\",\"South Africa\",\"lamb_goat\",4.28,149.89\\n\"489\",\"South Africa\",\"fish\",5.56,8.88\\n\"490\",\"South Africa\",\"eggs\",7.21,6.62\\n\"491\",\"South Africa\",\"dairy\",55.75,79.41\\n\"492\",\"South Africa\",\"wheat\",60.13,11.47\\n\"493\",\"South Africa\",\"rice\",17.41,22.28\\n\"494\",\"South Africa\",\"soybeans\",1.27,0.57\\n\"495\",\"South Africa\",\"nuts\",1.04,1.84\\n\"496\",\"Barbados\",\"pork\",8.3,29.38\\n\"497\",\"Barbados\",\"poultry\",42.62,45.78\\n\"498\",\"Barbados\",\"beef\",13.13,405.16\\n\"499\",\"Barbados\",\"lamb_goat\",4.08,142.88\\n\"500\",\"Barbados\",\"fish\",37.41,59.73\\n\"501\",\"Barbados\",\"eggs\",9.61,8.83\\n\"502\",\"Barbados\",\"dairy\",110.48,157.37\\n\"503\",\"Barbados\",\"wheat\",65.71,12.53\\n\"504\",\"Barbados\",\"rice\",15.66,20.04\\n\"505\",\"Barbados\",\"soybeans\",0.1,0.05\\n\"506\",\"Barbados\",\"nuts\",4.16,7.36\\n\"507\",\"Lithuania\",\"pork\",45.67,161.65\\n\"508\",\"Lithuania\",\"poultry\",26.84,28.83\\n\"509\",\"Lithuania\",\"beef\",4.49,138.55\\n\"510\",\"Lithuania\",\"lamb_goat\",0.24,8.4\\n\"511\",\"Lithuania\",\"fish\",42.39,67.68\\n\"512\",\"Lithuania\",\"eggs\",13.11,12.04\\n\"513\",\"Lithuania\",\"dairy\",295.46,420.85\\n\"514\",\"Lithuania\",\"wheat\",121.59,23.19\\n\"515\",\"Lithuania\",\"rice\",3.07,3.93\\n\"516\",\"Lithuania\",\"soybeans\",0.02,0.01\\n\"517\",\"Lithuania\",\"nuts\",2.13,3.77\\n\"518\",\"Turkey\",\"pork\",0.01,0.04\\n\"519\",\"Turkey\",\"poultry\",18.78,20.17\\n\"520\",\"Turkey\",\"beef\",11.64,359.19\\n\"521\",\"Turkey\",\"lamb_goat\",4.68,163.89\\n\"522\",\"Turkey\",\"fish\",5.58,8.91\\n\"523\",\"Turkey\",\"eggs\",8.2,7.53\\n\"524\",\"Turkey\",\"dairy\",193.94,276.25\\n\"525\",\"Turkey\",\"wheat\",169.96,32.41\\n\"526\",\"Turkey\",\"rice\",10.74,13.74\\n\"527\",\"Turkey\",\"soybeans\",1.71,0.77\\n\"528\",\"Turkey\",\"nuts\",7.97,14.11\\n\"529\",\"Estonia\",\"pork\",29.68,105.05\\n\"530\",\"Estonia\",\"poultry\",21.11,22.68\\n\"531\",\"Estonia\",\"beef\",7.19,221.87\\n\"532\",\"Estonia\",\"lamb_goat\",0.44,15.41\\n\"533\",\"Estonia\",\"fish\",12.78,20.41\\n\"534\",\"Estonia\",\"eggs\",12.66,11.63\\n\"535\",\"Estonia\",\"dairy\",284.85,405.74\\n\"536\",\"Estonia\",\"wheat\",89.36,17.04\\n\"537\",\"Estonia\",\"rice\",2.56,3.28\\n\"538\",\"Estonia\",\"soybeans\",0.04,0.02\\n\"539\",\"Estonia\",\"nuts\",4.29,7.59\\n\"540\",\"Mexico\",\"pork\",15.23,53.91\\n\"541\",\"Mexico\",\"poultry\",30.12,32.35\\n\"542\",\"Mexico\",\"beef\",15.33,473.05\\n\"543\",\"Mexico\",\"lamb_goat\",0.89,31.17\\n\"544\",\"Mexico\",\"fish\",7.56,12.07\\n\"545\",\"Mexico\",\"eggs\",18.34,16.85\\n\"546\",\"Mexico\",\"dairy\",111.87,159.35\\n\"547\",\"Mexico\",\"wheat\",35.21,6.71\\n\"548\",\"Mexico\",\"rice\",5.64,7.22\\n\"549\",\"Mexico\",\"soybeans\",0.02,0.01\\n\"550\",\"Mexico\",\"nuts\",2.51,4.44\\n\"551\",\"Costa Rica\",\"pork\",10.28,36.39\\n\"552\",\"Costa Rica\",\"poultry\",24.47,26.29\\n\"553\",\"Costa Rica\",\"beef\",15.23,469.97\\n\"554\",\"Costa Rica\",\"lamb_goat\",0.02,0.7\\n\"555\",\"Costa Rica\",\"fish\",11.32,18.07\\n\"556\",\"Costa Rica\",\"eggs\",10.55,9.69\\n\"557\",\"Costa Rica\",\"dairy\",183.28,261.06\\n\"558\",\"Costa Rica\",\"wheat\",39.31,7.5\\n\"559\",\"Costa Rica\",\"rice\",45.69,58.47\\n\"560\",\"Costa Rica\",\"soybeans\",1.54,0.69\\n\"561\",\"Costa Rica\",\"nuts\",1.38,2.44\\n\"562\",\"Bolivia\",\"pork\",8.89,31.47\\n\"563\",\"Bolivia\",\"poultry\",34.31,36.86\\n\"564\",\"Bolivia\",\"beef\",19.78,610.37\\n\"565\",\"Bolivia\",\"lamb_goat\",1.72,60.23\\n\"566\",\"Bolivia\",\"fish\",2.18,3.48\\n\"567\",\"Bolivia\",\"eggs\",5.18,4.76\\n\"568\",\"Bolivia\",\"dairy\",46.04,65.58\\n\"569\",\"Bolivia\",\"wheat\",49.99,9.53\\n\"570\",\"Bolivia\",\"rice\",26.99,34.54\\n\"571\",\"Bolivia\",\"soybeans\",0.01,0\\n\"572\",\"Bolivia\",\"nuts\",9.16,16.21\\n\"573\",\"Ecuador\",\"pork\",14.44,51.11\\n\"574\",\"Ecuador\",\"poultry\",21.85,23.47\\n\"575\",\"Ecuador\",\"beef\",16.61,512.55\\n\"576\",\"Ecuador\",\"lamb_goat\",0.44,15.41\\n\"577\",\"Ecuador\",\"fish\",5.17,8.25\\n\"578\",\"Ecuador\",\"eggs\",8.01,7.36\\n\"579\",\"Ecuador\",\"dairy\",139.6,198.85\\n\"580\",\"Ecuador\",\"wheat\",39.19,7.47\\n\"581\",\"Ecuador\",\"rice\",45.07,57.68\\n\"582\",\"Ecuador\",\"soybeans\",0,0\\n\"583\",\"Ecuador\",\"nuts\",0.98,1.73\\n\"584\",\"Panama\",\"pork\",13.48,47.71\\n\"585\",\"Panama\",\"poultry\",30.81,33.1\\n\"586\",\"Panama\",\"beef\",20.4,629.5\\n\"587\",\"Panama\",\"lamb_goat\",0.01,0.35\\n\"588\",\"Panama\",\"fish\",11.05,17.64\\n\"589\",\"Panama\",\"eggs\",4.53,4.16\\n\"590\",\"Panama\",\"dairy\",70.29,100.12\\n\"591\",\"Panama\",\"wheat\",38.96,7.43\\n\"592\",\"Panama\",\"rice\",66.42,85\\n\"593\",\"Panama\",\"soybeans\",3.53,1.59\\n\"594\",\"Panama\",\"nuts\",1.05,1.86\\n\"595\",\"Czech Republic\",\"pork\",41.17,145.72\\n\"596\",\"Czech Republic\",\"poultry\",19.09,20.51\\n\"597\",\"Czech Republic\",\"beef\",8.15,251.49\\n\"598\",\"Czech Republic\",\"lamb_goat\",0.34,11.91\\n\"599\",\"Czech Republic\",\"fish\",8.25,13.17\\n\"600\",\"Czech Republic\",\"eggs\",11.66,10.71\\n\"601\",\"Czech Republic\",\"dairy\",195.2,278.04\\n\"602\",\"Czech Republic\",\"wheat\",92.67,17.67\\n\"603\",\"Czech Republic\",\"rice\",4.79,6.13\\n\"604\",\"Czech Republic\",\"soybeans\",0.82,0.37\\n\"605\",\"Czech Republic\",\"nuts\",2.47,4.37\\n\"606\",\"Romania\",\"pork\",25.31,89.58\\n\"607\",\"Romania\",\"poultry\",15.38,16.52\\n\"608\",\"Romania\",\"beef\",4.78,147.5\\n\"609\",\"Romania\",\"lamb_goat\",3.41,119.42\\n\"610\",\"Romania\",\"fish\",6.07,9.69\\n\"611\",\"Romania\",\"eggs\",12.94,11.89\\n\"612\",\"Romania\",\"dairy\",238.33,339.48\\n\"613\",\"Romania\",\"wheat\",134.87,25.72\\n\"614\",\"Romania\",\"rice\",2.59,3.31\\n\"615\",\"Romania\",\"soybeans\",0.01,0\\n\"616\",\"Romania\",\"nuts\",1.8,3.19\\n\"617\",\"Colombia\",\"pork\",6.51,23.04\\n\"618\",\"Colombia\",\"poultry\",27.57,29.62\\n\"619\",\"Colombia\",\"beef\",16.36,504.84\\n\"620\",\"Colombia\",\"lamb_goat\",0.21,7.35\\n\"621\",\"Colombia\",\"fish\",6.01,9.6\\n\"622\",\"Colombia\",\"eggs\",10.78,9.9\\n\"623\",\"Colombia\",\"dairy\",108.47,154.5\\n\"624\",\"Colombia\",\"wheat\",29.79,5.68\\n\"625\",\"Colombia\",\"rice\",28.02,35.86\\n\"626\",\"Colombia\",\"soybeans\",0.89,0.4\\n\"627\",\"Colombia\",\"nuts\",0.42,0.74\\n\"628\",\"Maldives\",\"pork\",1.22,4.32\\n\"629\",\"Maldives\",\"poultry\",18.47,19.84\\n\"630\",\"Maldives\",\"beef\",9.44,291.3\\n\"631\",\"Maldives\",\"lamb_goat\",0.7,24.51\\n\"632\",\"Maldives\",\"fish\",179.71,286.94\\n\"633\",\"Maldives\",\"eggs\",10.79,9.91\\n\"634\",\"Maldives\",\"dairy\",111.47,158.78\\n\"635\",\"Maldives\",\"wheat\",77.77,14.83\\n\"636\",\"Maldives\",\"rice\",50.73,64.92\\n\"637\",\"Maldives\",\"soybeans\",0.2,0.09\\n\"638\",\"Maldives\",\"nuts\",15.83,28.02\\n\"639\",\"Cyprus\",\"pork\",38.38,135.85\\n\"640\",\"Cyprus\",\"poultry\",24.45,26.26\\n\"641\",\"Cyprus\",\"beef\",5.79,178.67\\n\"642\",\"Cyprus\",\"lamb_goat\",5.05,176.85\\n\"643\",\"Cyprus\",\"fish\",14.86,23.73\\n\"644\",\"Cyprus\",\"eggs\",8.98,8.25\\n\"645\",\"Cyprus\",\"dairy\",113.31,161.4\\n\"646\",\"Cyprus\",\"wheat\",83.25,15.88\\n\"647\",\"Cyprus\",\"rice\",4.94,6.32\\n\"648\",\"Cyprus\",\"soybeans\",0.04,0.02\\n\"649\",\"Cyprus\",\"nuts\",4.6,8.14\\n\"650\",\"Serbia\",\"pork\",32.04,113.41\\n\"651\",\"Serbia\",\"poultry\",10.64,11.43\\n\"652\",\"Serbia\",\"beef\",7.05,217.55\\n\"653\",\"Serbia\",\"lamb_goat\",3.56,124.67\\n\"654\",\"Serbia\",\"fish\",5.59,8.93\\n\"655\",\"Serbia\",\"eggs\",8.89,8.17\\n\"656\",\"Serbia\",\"dairy\",148.53,211.57\\n\"657\",\"Serbia\",\"wheat\",105.88,20.19\\n\"658\",\"Serbia\",\"rice\",1.22,1.56\\n\"659\",\"Serbia\",\"soybeans\",0,0\\n\"660\",\"Serbia\",\"nuts\",3.31,5.86\\n\"661\",\"United Arab Emirates\",\"pork\",0,0\\n\"662\",\"United Arab Emirates\",\"poultry\",41.04,44.09\\n\"663\",\"United Arab Emirates\",\"beef\",5.64,174.04\\n\"664\",\"United Arab Emirates\",\"lamb_goat\",9.08,317.98\\n\"665\",\"United Arab Emirates\",\"fish\",20.41,32.59\\n\"666\",\"United Arab Emirates\",\"eggs\",8.23,7.56\\n\"667\",\"United Arab Emirates\",\"dairy\",132.66,188.96\\n\"668\",\"United Arab Emirates\",\"wheat\",101.29,19.32\\n\"669\",\"United Arab Emirates\",\"rice\",56.25,71.98\\n\"670\",\"United Arab Emirates\",\"soybeans\",0.08,0.04\\n\"671\",\"United Arab Emirates\",\"nuts\",23.03,40.76\\n\"672\",\"Algeria\",\"pork\",0,0\\n\"673\",\"Algeria\",\"poultry\",7.42,7.97\\n\"674\",\"Algeria\",\"beef\",5.6,172.8\\n\"675\",\"Algeria\",\"lamb_goat\",7.69,269.3\\n\"676\",\"Algeria\",\"fish\",3.74,5.97\\n\"677\",\"Algeria\",\"eggs\",8.06,7.4\\n\"678\",\"Algeria\",\"dairy\",141.53,201.6\\n\"679\",\"Algeria\",\"wheat\",185.42,35.36\\n\"680\",\"Algeria\",\"rice\",2.97,3.8\\n\"681\",\"Algeria\",\"soybeans\",0,0\\n\"682\",\"Algeria\",\"nuts\",2.08,3.68\\n\"683\",\"Ukraine\",\"pork\",20.56,72.77\\n\"684\",\"Ukraine\",\"poultry\",24.23,26.03\\n\"685\",\"Ukraine\",\"beef\",8.96,276.49\\n\"686\",\"Ukraine\",\"lamb_goat\",0.41,14.36\\n\"687\",\"Ukraine\",\"fish\",15.23,24.32\\n\"688\",\"Ukraine\",\"eggs\",18.01,16.54\\n\"689\",\"Ukraine\",\"dairy\",145.03,206.58\\n\"690\",\"Ukraine\",\"wheat\",105.15,20.05\\n\"691\",\"Ukraine\",\"rice\",3,3.84\\n\"692\",\"Ukraine\",\"soybeans\",0.02,0.01\\n\"693\",\"Ukraine\",\"nuts\",2.68,4.74\\n\"694\",\"Pakistan\",\"pork\",0,0\\n\"695\",\"Pakistan\",\"poultry\",5.01,5.38\\n\"696\",\"Pakistan\",\"beef\",8.82,272.17\\n\"697\",\"Pakistan\",\"lamb_goat\",2.46,86.15\\n\"698\",\"Pakistan\",\"fish\",1.87,2.99\\n\"699\",\"Pakistan\",\"eggs\",2.95,2.71\\n\"700\",\"Pakistan\",\"dairy\",183.13,260.85\\n\"701\",\"Pakistan\",\"wheat\",113.63,21.67\\n\"702\",\"Pakistan\",\"rice\",12.25,15.68\\n\"703\",\"Pakistan\",\"soybeans\",0,0\\n\"704\",\"Pakistan\",\"nuts\",0.83,1.47\\n\"705\",\"Swaziland\",\"pork\",2.43,8.6\\n\"706\",\"Swaziland\",\"poultry\",6.18,6.64\\n\"707\",\"Swaziland\",\"beef\",15.1,465.95\\n\"708\",\"Swaziland\",\"lamb_goat\",1.94,67.94\\n\"709\",\"Swaziland\",\"fish\",1.26,2.01\\n\"710\",\"Swaziland\",\"eggs\",1.5,1.38\\n\"711\",\"Swaziland\",\"dairy\",56.6,80.62\\n\"712\",\"Swaziland\",\"wheat\",37.15,7.08\\n\"713\",\"Swaziland\",\"rice\",21.15,27.07\\n\"714\",\"Swaziland\",\"soybeans\",0.55,0.25\\n\"715\",\"Swaziland\",\"nuts\",6.44,11.4\\n\"716\",\"Latvia\",\"pork\",34.96,123.74\\n\"717\",\"Latvia\",\"poultry\",20.53,22.05\\n\"718\",\"Latvia\",\"beef\",5.11,157.68\\n\"719\",\"Latvia\",\"lamb_goat\",0.34,11.91\\n\"720\",\"Latvia\",\"fish\",21.3,34.01\\n\"721\",\"Latvia\",\"eggs\",14.03,12.89\\n\"722\",\"Latvia\",\"dairy\",174.11,248\\n\"723\",\"Latvia\",\"wheat\",72.13,13.76\\n\"724\",\"Latvia\",\"rice\",2.21,2.83\\n\"725\",\"Latvia\",\"soybeans\",0.04,0.02\\n\"726\",\"Latvia\",\"nuts\",3.78,6.69\\n\"727\",\"Bosnia and Herzegovina\",\"pork\",9.38,33.2\\n\"728\",\"Bosnia and Herzegovina\",\"poultry\",13.17,14.15\\n\"729\",\"Bosnia and Herzegovina\",\"beef\",9.12,281.42\\n\"730\",\"Bosnia and Herzegovina\",\"lamb_goat\",0.47,16.46\\n\"731\",\"Bosnia and Herzegovina\",\"fish\",4.06,6.48\\n\"732\",\"Bosnia and Herzegovina\",\"eggs\",4.49,4.12\\n\"733\",\"Bosnia and Herzegovina\",\"dairy\",174.03,247.89\\n\"734\",\"Bosnia and Herzegovina\",\"wheat\",93.56,17.84\\n\"735\",\"Bosnia and Herzegovina\",\"rice\",1.88,2.41\\n\"736\",\"Bosnia and Herzegovina\",\"soybeans\",1.48,0.67\\n\"737\",\"Bosnia and Herzegovina\",\"nuts\",2,3.54\\n\"738\",\"Fiji\",\"pork\",4.31,15.26\\n\"739\",\"Fiji\",\"poultry\",20.26,21.76\\n\"740\",\"Fiji\",\"beef\",8.96,276.49\\n\"741\",\"Fiji\",\"lamb_goat\",5.9,206.62\\n\"742\",\"Fiji\",\"fish\",35.01,55.9\\n\"743\",\"Fiji\",\"eggs\",6.44,5.92\\n\"744\",\"Fiji\",\"dairy\",40.2,57.26\\n\"745\",\"Fiji\",\"wheat\",84.22,16.06\\n\"746\",\"Fiji\",\"rice\",45.62,58.38\\n\"747\",\"Fiji\",\"soybeans\",0.3,0.14\\n\"748\",\"Fiji\",\"nuts\",1.3,2.3\\n\"749\",\"South Korea\",\"pork\",32.76,115.95\\n\"750\",\"South Korea\",\"poultry\",16,17.19\\n\"751\",\"South Korea\",\"beef\",14.53,448.37\\n\"752\",\"South Korea\",\"lamb_goat\",0.14,4.9\\n\"753\",\"South Korea\",\"fish\",33.09,52.83\\n\"754\",\"South Korea\",\"eggs\",11.24,10.33\\n\"755\",\"South Korea\",\"dairy\",29.05,41.38\\n\"756\",\"South Korea\",\"wheat\",50.84,9.7\\n\"757\",\"South Korea\",\"rice\",85.18,109\\n\"758\",\"South Korea\",\"soybeans\",8.35,3.76\\n\"759\",\"South Korea\",\"nuts\",4.88,8.64\\n\"760\",\"Poland\",\"pork\",46.19,163.49\\n\"761\",\"Poland\",\"poultry\",27.41,29.44\\n\"762\",\"Poland\",\"beef\",2.32,71.59\\n\"763\",\"Poland\",\"lamb_goat\",0.02,0.7\\n\"764\",\"Poland\",\"fish\",10.49,16.75\\n\"765\",\"Poland\",\"eggs\",7.53,6.92\\n\"766\",\"Poland\",\"dairy\",205.39,292.56\\n\"767\",\"Poland\",\"wheat\",108.83,20.75\\n\"768\",\"Poland\",\"rice\",0.95,1.22\\n\"769\",\"Poland\",\"soybeans\",0.06,0.03\\n\"770\",\"Poland\",\"nuts\",2.23,3.95\\n\"771\",\"Saudi Arabia\",\"pork\",0,0\\n\"772\",\"Saudi Arabia\",\"poultry\",49.05,52.69\\n\"773\",\"Saudi Arabia\",\"beef\",6.45,199.03\\n\"774\",\"Saudi Arabia\",\"lamb_goat\",6.54,229.03\\n\"775\",\"Saudi Arabia\",\"fish\",11.99,19.14\\n\"776\",\"Saudi Arabia\",\"eggs\",5.37,4.93\\n\"777\",\"Saudi Arabia\",\"dairy\",83.65,119.15\\n\"778\",\"Saudi Arabia\",\"wheat\",89.47,17.06\\n\"779\",\"Saudi Arabia\",\"rice\",36.02,46.09\\n\"780\",\"Saudi Arabia\",\"soybeans\",0.05,0.02\\n\"781\",\"Saudi Arabia\",\"nuts\",3.23,5.72\\n\"782\",\"Botswana\",\"pork\",0.74,2.62\\n\"783\",\"Botswana\",\"poultry\",5.33,5.73\\n\"784\",\"Botswana\",\"beef\",7.85,242.23\\n\"785\",\"Botswana\",\"lamb_goat\",3.76,131.67\\n\"786\",\"Botswana\",\"fish\",3.98,6.35\\n\"787\",\"Botswana\",\"eggs\",1.95,1.79\\n\"788\",\"Botswana\",\"dairy\",117.74,167.71\\n\"789\",\"Botswana\",\"wheat\",38.2,7.28\\n\"790\",\"Botswana\",\"rice\",7.06,9.03\\n\"791\",\"Botswana\",\"soybeans\",1.16,0.52\\n\"792\",\"Botswana\",\"nuts\",1.08,1.91\\n\"793\",\"Macedonia\",\"pork\",10.35,36.63\\n\"794\",\"Macedonia\",\"poultry\",18.77,20.16\\n\"795\",\"Macedonia\",\"beef\",7.69,237.3\\n\"796\",\"Macedonia\",\"lamb_goat\",0.94,32.92\\n\"797\",\"Macedonia\",\"fish\",5.47,8.73\\n\"798\",\"Macedonia\",\"eggs\",6.38,5.86\\n\"799\",\"Macedonia\",\"dairy\",157.93,224.96\\n\"800\",\"Macedonia\",\"wheat\",104.8,19.99\\n\"801\",\"Macedonia\",\"rice\",2.81,3.6\\n\"802\",\"Macedonia\",\"soybeans\",0.46,0.21\\n\"803\",\"Macedonia\",\"nuts\",5.87,10.39\\n\"804\",\"Hungary\",\"pork\",34.93,123.63\\n\"805\",\"Hungary\",\"poultry\",23.78,25.54\\n\"806\",\"Hungary\",\"beef\",4.96,153.06\\n\"807\",\"Hungary\",\"lamb_goat\",0.11,3.85\\n\"808\",\"Hungary\",\"fish\",4.93,7.87\\n\"809\",\"Hungary\",\"eggs\",12.45,11.44\\n\"810\",\"Hungary\",\"dairy\",159.05,226.55\\n\"811\",\"Hungary\",\"wheat\",109.98,20.97\\n\"812\",\"Hungary\",\"rice\",2.15,2.75\\n\"813\",\"Hungary\",\"soybeans\",0.01,0\\n\"814\",\"Hungary\",\"nuts\",0.64,1.13\\n\"815\",\"Trinidad and Tobago\",\"pork\",8.92,31.57\\n\"816\",\"Trinidad and Tobago\",\"poultry\",58.27,62.59\\n\"817\",\"Trinidad and Tobago\",\"beef\",6.13,189.16\\n\"818\",\"Trinidad and Tobago\",\"lamb_goat\",2.79,97.71\\n\"819\",\"Trinidad and Tobago\",\"fish\",20.54,32.8\\n\"820\",\"Trinidad and Tobago\",\"eggs\",4.2,3.86\\n\"821\",\"Trinidad and Tobago\",\"dairy\",103.8,147.85\\n\"822\",\"Trinidad and Tobago\",\"wheat\",90.17,17.2\\n\"823\",\"Trinidad and Tobago\",\"rice\",16.38,20.96\\n\"824\",\"Trinidad and Tobago\",\"soybeans\",0.04,0.02\\n\"825\",\"Trinidad and Tobago\",\"nuts\",3.78,6.69\\n\"826\",\"Tunisia\",\"pork\",0,0\\n\"827\",\"Tunisia\",\"poultry\",18.5,19.87\\n\"828\",\"Tunisia\",\"beef\",5.53,170.64\\n\"829\",\"Tunisia\",\"lamb_goat\",5.34,187.01\\n\"830\",\"Tunisia\",\"fish\",12.63,20.17\\n\"831\",\"Tunisia\",\"eggs\",7.67,7.05\\n\"832\",\"Tunisia\",\"dairy\",114.47,163.05\\n\"833\",\"Tunisia\",\"wheat\",197.5,37.66\\n\"834\",\"Tunisia\",\"rice\",1.07,1.37\\n\"835\",\"Tunisia\",\"soybeans\",1.88,0.85\\n\"836\",\"Tunisia\",\"nuts\",6.34,11.22\\n\"837\",\"Egypt\",\"pork\",0.02,0.07\\n\"838\",\"Egypt\",\"poultry\",14.43,15.5\\n\"839\",\"Egypt\",\"beef\",12.88,397.45\\n\"840\",\"Egypt\",\"lamb_goat\",1.58,55.33\\n\"841\",\"Egypt\",\"fish\",21.46,34.26\\n\"842\",\"Egypt\",\"eggs\",4.59,4.22\\n\"843\",\"Egypt\",\"dairy\",59.46,84.69\\n\"844\",\"Egypt\",\"wheat\",146.83,28\\n\"845\",\"Egypt\",\"rice\",39.77,50.89\\n\"846\",\"Egypt\",\"soybeans\",0.64,0.29\\n\"847\",\"Egypt\",\"nuts\",1.82,3.22\\n\"848\",\"Mauritius\",\"pork\",4.08,14.44\\n\"849\",\"Mauritius\",\"poultry\",38.51,41.37\\n\"850\",\"Mauritius\",\"beef\",5.99,184.84\\n\"851\",\"Mauritius\",\"lamb_goat\",4.08,142.88\\n\"852\",\"Mauritius\",\"fish\",19.66,31.39\\n\"853\",\"Mauritius\",\"eggs\",6.32,5.81\\n\"854\",\"Mauritius\",\"dairy\",117.27,167.04\\n\"855\",\"Mauritius\",\"wheat\",114.02,21.74\\n\"856\",\"Mauritius\",\"rice\",45.56,58.3\\n\"857\",\"Mauritius\",\"soybeans\",0.3,0.14\\n\"858\",\"Mauritius\",\"nuts\",2.33,4.12\\n\"859\",\"Bulgaria\",\"pork\",26.26,92.95\\n\"860\",\"Bulgaria\",\"poultry\",20.68,22.21\\n\"861\",\"Bulgaria\",\"beef\",3.84,118.49\\n\"862\",\"Bulgaria\",\"lamb_goat\",1.63,57.08\\n\"863\",\"Bulgaria\",\"fish\",6.24,9.96\\n\"864\",\"Bulgaria\",\"eggs\",8.36,7.68\\n\"865\",\"Bulgaria\",\"dairy\",155.71,221.79\\n\"866\",\"Bulgaria\",\"wheat\",121.17,23.11\\n\"867\",\"Bulgaria\",\"rice\",2.24,2.87\\n\"868\",\"Bulgaria\",\"soybeans\",0.04,0.02\\n\"869\",\"Bulgaria\",\"nuts\",2.26,4\\n\"870\",\"Morocco\",\"pork\",0.01,0.04\\n\"871\",\"Morocco\",\"poultry\",20.77,22.31\\n\"872\",\"Morocco\",\"beef\",8.04,248.1\\n\"873\",\"Morocco\",\"lamb_goat\",4.36,152.69\\n\"874\",\"Morocco\",\"fish\",17.44,27.85\\n\"875\",\"Morocco\",\"eggs\",6.68,6.14\\n\"876\",\"Morocco\",\"dairy\",54.68,77.89\\n\"877\",\"Morocco\",\"wheat\",179.7,34.27\\n\"878\",\"Morocco\",\"rice\",1.1,1.41\\n\"879\",\"Morocco\",\"soybeans\",0,0\\n\"880\",\"Morocco\",\"nuts\",3.23,5.72\\n\"881\",\"Slovakia\",\"pork\",31.78,112.49\\n\"882\",\"Slovakia\",\"poultry\",15.13,16.25\\n\"883\",\"Slovakia\",\"beef\",5.19,160.15\\n\"884\",\"Slovakia\",\"lamb_goat\",0.16,5.6\\n\"885\",\"Slovakia\",\"fish\",8.39,13.4\\n\"886\",\"Slovakia\",\"eggs\",16.05,14.74\\n\"887\",\"Slovakia\",\"dairy\",143.14,203.89\\n\"888\",\"Slovakia\",\"wheat\",123.62,23.57\\n\"889\",\"Slovakia\",\"rice\",2.88,3.69\\n\"890\",\"Slovakia\",\"soybeans\",0.02,0.01\\n\"891\",\"Slovakia\",\"nuts\",3.7,6.55\\n\"892\",\"Niger\",\"pork\",0.09,0.32\\n\"893\",\"Niger\",\"poultry\",1.08,1.16\\n\"894\",\"Niger\",\"beef\",8.97,276.8\\n\"895\",\"Niger\",\"lamb_goat\",4.17,146.03\\n\"896\",\"Niger\",\"fish\",2.7,4.31\\n\"897\",\"Niger\",\"eggs\",0.3,0.28\\n\"898\",\"Niger\",\"dairy\",58.92,83.93\\n\"899\",\"Niger\",\"wheat\",4.79,0.91\\n\"900\",\"Niger\",\"rice\",13.17,16.85\\n\"901\",\"Niger\",\"soybeans\",0,0\\n\"902\",\"Niger\",\"nuts\",6.95,12.3\\n\"903\",\"Kenya\",\"pork\",0.29,1.03\\n\"904\",\"Kenya\",\"poultry\",0.47,0.5\\n\"905\",\"Kenya\",\"beef\",9.54,294.38\\n\"906\",\"Kenya\",\"lamb_goat\",1.86,65.14\\n\"907\",\"Kenya\",\"fish\",4.27,6.82\\n\"908\",\"Kenya\",\"eggs\",1.84,1.69\\n\"909\",\"Kenya\",\"dairy\",94.86,135.12\\n\"910\",\"Kenya\",\"wheat\",34.65,6.61\\n\"911\",\"Kenya\",\"rice\",12.94,16.56\\n\"912\",\"Kenya\",\"soybeans\",0.2,0.09\\n\"913\",\"Kenya\",\"nuts\",1.64,2.9\\n\"914\",\"Jordan\",\"pork\",0.02,0.07\\n\"915\",\"Jordan\",\"poultry\",33.39,35.87\\n\"916\",\"Jordan\",\"beef\",5.61,173.11\\n\"917\",\"Jordan\",\"lamb_goat\",5.68,198.91\\n\"918\",\"Jordan\",\"fish\",5.13,8.19\\n\"919\",\"Jordan\",\"eggs\",3.92,3.6\\n\"920\",\"Jordan\",\"dairy\",77.68,110.65\\n\"921\",\"Jordan\",\"wheat\",136.74,26.08\\n\"922\",\"Jordan\",\"rice\",19.67,25.17\\n\"923\",\"Jordan\",\"soybeans\",0.02,0.01\\n\"924\",\"Jordan\",\"nuts\",3.56,6.3\\n\"925\",\"Japan\",\"pork\",20.62,72.98\\n\"926\",\"Japan\",\"poultry\",19.42,20.86\\n\"927\",\"Japan\",\"beef\",9.15,282.35\\n\"928\",\"Japan\",\"lamb_goat\",0.14,4.9\\n\"929\",\"Japan\",\"fish\",31.1,49.66\\n\"930\",\"Japan\",\"eggs\",19.15,17.59\\n\"931\",\"Japan\",\"dairy\",72.06,102.64\\n\"932\",\"Japan\",\"wheat\",45.04,8.59\\n\"933\",\"Japan\",\"rice\",59.85,76.59\\n\"934\",\"Japan\",\"soybeans\",7.34,3.3\\n\"935\",\"Japan\",\"nuts\",2.59,4.58\\n\"936\",\"Georgia\",\"pork\",8.93,31.61\\n\"937\",\"Georgia\",\"poultry\",12.28,13.19\\n\"938\",\"Georgia\",\"beef\",6.04,186.38\\n\"939\",\"Georgia\",\"lamb_goat\",0.63,22.06\\n\"940\",\"Georgia\",\"fish\",10.42,16.64\\n\"941\",\"Georgia\",\"eggs\",6.12,5.62\\n\"942\",\"Georgia\",\"dairy\",149.26,212.61\\n\"943\",\"Georgia\",\"wheat\",163.43,31.17\\n\"944\",\"Georgia\",\"rice\",2.64,3.38\\n\"945\",\"Georgia\",\"soybeans\",0,0\\n\"946\",\"Georgia\",\"nuts\",2.47,4.37\\n\"947\",\"Grenada\",\"pork\",11.52,40.78\\n\"948\",\"Grenada\",\"poultry\",43.51,46.74\\n\"949\",\"Grenada\",\"beef\",3.46,106.77\\n\"950\",\"Grenada\",\"lamb_goat\",1.25,43.77\\n\"951\",\"Grenada\",\"fish\",27.95,44.63\\n\"952\",\"Grenada\",\"eggs\",10.34,9.5\\n\"953\",\"Grenada\",\"dairy\",86.88,123.75\\n\"954\",\"Grenada\",\"wheat\",59.59,11.36\\n\"955\",\"Grenada\",\"rice\",9.56,12.23\\n\"956\",\"Grenada\",\"soybeans\",0.01,0\\n\"957\",\"Grenada\",\"nuts\",0.18,0.32\\n\"958\",\"El Salvador\",\"pork\",3.23,11.43\\n\"959\",\"El Salvador\",\"poultry\",19.84,21.31\\n\"960\",\"El Salvador\",\"beef\",5.95,183.6\\n\"961\",\"El Salvador\",\"lamb_goat\",0.02,0.7\\n\"962\",\"El Salvador\",\"fish\",6.25,9.98\\n\"963\",\"El Salvador\",\"eggs\",9.51,8.74\\n\"964\",\"El Salvador\",\"dairy\",124.34,177.11\\n\"965\",\"El Salvador\",\"wheat\",28.19,5.38\\n\"966\",\"El Salvador\",\"rice\",10.53,13.48\\n\"967\",\"El Salvador\",\"soybeans\",0.8,0.36\\n\"968\",\"El Salvador\",\"nuts\",1.1,1.95\\n\"969\",\"Cuba\",\"pork\",19.82,70.15\\n\"970\",\"Cuba\",\"poultry\",20.15,21.65\\n\"971\",\"Cuba\",\"beef\",6.39,197.18\\n\"972\",\"Cuba\",\"lamb_goat\",1.24,43.42\\n\"973\",\"Cuba\",\"fish\",4.76,7.6\\n\"974\",\"Cuba\",\"eggs\",9.82,9.02\\n\"975\",\"Cuba\",\"dairy\",99.94,142.35\\n\"976\",\"Cuba\",\"wheat\",54.62,10.42\\n\"977\",\"Cuba\",\"rice\",67.7,86.64\\n\"978\",\"Cuba\",\"soybeans\",6.34,2.85\\n\"979\",\"Cuba\",\"nuts\",0.23,0.41\\n\"980\",\"China\",\"pork\",38.43,136.02\\n\"981\",\"China\",\"poultry\",13.2,14.18\\n\"982\",\"China\",\"beef\",5.12,157.99\\n\"983\",\"China\",\"lamb_goat\",3.13,109.61\\n\"984\",\"China\",\"fish\",21.01,33.55\\n\"985\",\"China\",\"eggs\",18.76,17.23\\n\"986\",\"China\",\"dairy\",32.66,46.52\\n\"987\",\"China\",\"wheat\",63.36,12.08\\n\"988\",\"China\",\"rice\",78.18,100.05\\n\"989\",\"China\",\"soybeans\",3.66,1.65\\n\"990\",\"China\",\"nuts\",6.39,11.31\\n\"991\",\"Honduras\",\"pork\",6.48,22.94\\n\"992\",\"Honduras\",\"poultry\",20.29,21.8\\n\"993\",\"Honduras\",\"beef\",7.19,221.87\\n\"994\",\"Honduras\",\"lamb_goat\",0.04,1.4\\n\"995\",\"Honduras\",\"fish\",2.7,4.31\\n\"996\",\"Honduras\",\"eggs\",5.19,4.77\\n\"997\",\"Honduras\",\"dairy\",91.33,130.09\\n\"998\",\"Honduras\",\"wheat\",37.36,7.12\\n\"999\",\"Honduras\",\"rice\",14.42,18.45\\n\"1000\",\"Honduras\",\"soybeans\",0.01,0\\n\"1001\",\"Honduras\",\"nuts\",0.75,1.33\\n\"1002\",\"Taiwan. ROC\",\"pork\",39.37,139.35\\n\"1003\",\"Taiwan. ROC\",\"poultry\",32.13,34.51\\n\"1004\",\"Taiwan. ROC\",\"beef\",5.21,160.77\\n\"1005\",\"Taiwan. ROC\",\"lamb_goat\",0.92,32.22\\n\"1006\",\"Taiwan. ROC\",\"fish\",18.29,29.2\\n\"1007\",\"Taiwan. ROC\",\"eggs\",13.08,12.02\\n\"1008\",\"Taiwan. ROC\",\"dairy\",41.72,59.43\\n\"1009\",\"Taiwan. ROC\",\"wheat\",50.92,9.71\\n\"1010\",\"Taiwan. ROC\",\"rice\",45.85,58.67\\n\"1011\",\"Taiwan. ROC\",\"soybeans\",16.95,7.63\\n\"1012\",\"Taiwan. ROC\",\"nuts\",9.06,16.04\\n\"1013\",\"Angola\",\"pork\",8.89,31.47\\n\"1014\",\"Angola\",\"poultry\",17.33,18.62\\n\"1015\",\"Angola\",\"beef\",8.42,259.82\\n\"1016\",\"Angola\",\"lamb_goat\",1.08,37.82\\n\"1017\",\"Angola\",\"fish\",15.24,24.33\\n\"1018\",\"Angola\",\"eggs\",1.11,1.02\\n\"1019\",\"Angola\",\"dairy\",12.3,17.52\\n\"1020\",\"Angola\",\"wheat\",40.72,7.77\\n\"1021\",\"Angola\",\"rice\",8.12,10.39\\n\"1022\",\"Angola\",\"soybeans\",0.52,0.23\\n\"1023\",\"Angola\",\"nuts\",2.26,4\\n\"1024\",\"Jamaica\",\"pork\",3.99,14.12\\n\"1025\",\"Jamaica\",\"poultry\",52.51,56.41\\n\"1026\",\"Jamaica\",\"beef\",3.97,122.51\\n\"1027\",\"Jamaica\",\"lamb_goat\",1.26,44.13\\n\"1028\",\"Jamaica\",\"fish\",21.95,35.05\\n\"1029\",\"Jamaica\",\"eggs\",2.27,2.09\\n\"1030\",\"Jamaica\",\"dairy\",91.13,129.81\\n\"1031\",\"Jamaica\",\"wheat\",70.67,13.48\\n\"1032\",\"Jamaica\",\"rice\",23.45,30.01\\n\"1033\",\"Jamaica\",\"soybeans\",0,0\\n\"1034\",\"Jamaica\",\"nuts\",1.82,3.22\\n\"1035\",\"Namibia\",\"pork\",4.21,14.9\\n\"1036\",\"Namibia\",\"poultry\",12.19,13.09\\n\"1037\",\"Namibia\",\"beef\",3.75,115.72\\n\"1038\",\"Namibia\",\"lamb_goat\",2.27,79.5\\n\"1039\",\"Namibia\",\"fish\",10.7,17.08\\n\"1040\",\"Namibia\",\"eggs\",1.63,1.5\\n\"1041\",\"Namibia\",\"dairy\",73.05,104.05\\n\"1042\",\"Namibia\",\"wheat\",36.26,6.91\\n\"1043\",\"Namibia\",\"rice\",6.31,8.07\\n\"1044\",\"Namibia\",\"soybeans\",0.07,0.03\\n\"1045\",\"Namibia\",\"nuts\",0.71,1.26\\n\"1046\",\"Belize\",\"pork\",16.8,59.46\\n\"1047\",\"Belize\",\"poultry\",28.31,30.41\\n\"1048\",\"Belize\",\"beef\",4.86,149.97\\n\"1049\",\"Belize\",\"lamb_goat\",0.14,4.9\\n\"1050\",\"Belize\",\"fish\",7.57,12.09\\n\"1051\",\"Belize\",\"eggs\",4.85,4.46\\n\"1052\",\"Belize\",\"dairy\",80.3,114.38\\n\"1053\",\"Belize\",\"wheat\",54.06,10.31\\n\"1054\",\"Belize\",\"rice\",28.42,36.37\\n\"1055\",\"Belize\",\"soybeans\",1.88,0.85\\n\"1056\",\"Belize\",\"nuts\",5.58,9.88\\n\"1057\",\"Malaysia\",\"pork\",7.76,27.47\\n\"1058\",\"Malaysia\",\"poultry\",41.01,44.05\\n\"1059\",\"Malaysia\",\"beef\",6.52,201.19\\n\"1060\",\"Malaysia\",\"lamb_goat\",0.94,32.92\\n\"1061\",\"Malaysia\",\"fish\",49.43,78.92\\n\"1062\",\"Malaysia\",\"eggs\",16.57,15.22\\n\"1063\",\"Malaysia\",\"dairy\",25.28,36.01\\n\"1064\",\"Malaysia\",\"wheat\",51.04,9.73\\n\"1065\",\"Malaysia\",\"rice\",81.25,103.98\\n\"1066\",\"Malaysia\",\"soybeans\",0.04,0.02\\n\"1067\",\"Malaysia\",\"nuts\",2.9,5.13\\n\"1068\",\"Zimbabwe\",\"pork\",2.65,9.38\\n\"1069\",\"Zimbabwe\",\"poultry\",4.97,5.34\\n\"1070\",\"Zimbabwe\",\"beef\",7.37,227.42\\n\"1071\",\"Zimbabwe\",\"lamb_goat\",0.96,33.62\\n\"1072\",\"Zimbabwe\",\"fish\",2.8,4.47\\n\"1073\",\"Zimbabwe\",\"eggs\",1.75,1.61\\n\"1074\",\"Zimbabwe\",\"dairy\",31.9,45.44\\n\"1075\",\"Zimbabwe\",\"wheat\",31.31,5.97\\n\"1076\",\"Zimbabwe\",\"rice\",10.09,12.91\\n\"1077\",\"Zimbabwe\",\"soybeans\",0.54,0.24\\n\"1078\",\"Zimbabwe\",\"nuts\",2.22,3.93\\n\"1079\",\"Guatemala\",\"pork\",4.85,17.17\\n\"1080\",\"Guatemala\",\"poultry\",16.45,17.67\\n\"1081\",\"Guatemala\",\"beef\",5.6,172.8\\n\"1082\",\"Guatemala\",\"lamb_goat\",0.23,8.05\\n\"1083\",\"Guatemala\",\"fish\",1.08,1.72\\n\"1084\",\"Guatemala\",\"eggs\",14.61,13.42\\n\"1085\",\"Guatemala\",\"dairy\",46.6,66.38\\n\"1086\",\"Guatemala\",\"wheat\",35.9,6.85\\n\"1087\",\"Guatemala\",\"rice\",5.66,7.24\\n\"1088\",\"Guatemala\",\"soybeans\",0.32,0.14\\n\"1089\",\"Guatemala\",\"nuts\",2,3.54\\n\"1090\",\"Uganda\",\"pork\",3.37,11.93\\n\"1091\",\"Uganda\",\"poultry\",1.51,1.62\\n\"1092\",\"Uganda\",\"beef\",5.15,158.92\\n\"1093\",\"Uganda\",\"lamb_goat\",1.25,43.77\\n\"1094\",\"Uganda\",\"fish\",12.5,19.96\\n\"1095\",\"Uganda\",\"eggs\",0.97,0.89\\n\"1096\",\"Uganda\",\"dairy\",37.27,53.09\\n\"1097\",\"Uganda\",\"wheat\",10.14,1.93\\n\"1098\",\"Uganda\",\"rice\",4.64,5.94\\n\"1099\",\"Uganda\",\"soybeans\",0.01,0\\n\"1100\",\"Uganda\",\"nuts\",3.77,6.67\\n\"1101\",\"Nepal\",\"pork\",0.67,2.37\\n\"1102\",\"Nepal\",\"poultry\",1.56,1.68\\n\"1103\",\"Nepal\",\"beef\",7.89,243.47\\n\"1104\",\"Nepal\",\"lamb_goat\",2.1,73.54\\n\"1105\",\"Nepal\",\"fish\",2.17,3.46\\n\"1106\",\"Nepal\",\"eggs\",1.42,1.3\\n\"1107\",\"Nepal\",\"dairy\",52.1,74.21\\n\"1108\",\"Nepal\",\"wheat\",50.46,9.62\\n\"1109\",\"Nepal\",\"rice\",87.75,112.29\\n\"1110\",\"Nepal\",\"soybeans\",0.01,0\\n\"1111\",\"Nepal\",\"nuts\",2.42,4.28\\n\"1112\",\"Iran\",\"pork\",0,0\\n\"1113\",\"Iran\",\"poultry\",25.38,27.26\\n\"1114\",\"Iran\",\"beef\",3.58,110.47\\n\"1115\",\"Iran\",\"lamb_goat\",3.69,129.22\\n\"1116\",\"Iran\",\"fish\",9.8,15.65\\n\"1117\",\"Iran\",\"eggs\",7.7,7.07\\n\"1118\",\"Iran\",\"dairy\",46.69,66.51\\n\"1119\",\"Iran\",\"wheat\",153.31,29.24\\n\"1120\",\"Iran\",\"rice\",29.95,38.33\\n\"1121\",\"Iran\",\"soybeans\",0,0\\n\"1122\",\"Iran\",\"nuts\",12.16,21.52\\n\"1123\",\"Tanzania\",\"pork\",0.32,1.13\\n\"1124\",\"Tanzania\",\"poultry\",1.84,1.98\\n\"1125\",\"Tanzania\",\"beef\",6.09,187.92\\n\"1126\",\"Tanzania\",\"lamb_goat\",1.28,44.83\\n\"1127\",\"Tanzania\",\"fish\",5.5,8.78\\n\"1128\",\"Tanzania\",\"eggs\",0.58,0.53\\n\"1129\",\"Tanzania\",\"dairy\",40.29,57.39\\n\"1130\",\"Tanzania\",\"wheat\",15.94,3.04\\n\"1131\",\"Tanzania\",\"rice\",21.01,26.89\\n\"1132\",\"Tanzania\",\"soybeans\",0.04,0.02\\n\"1133\",\"Tanzania\",\"nuts\",5.94,10.51\\n\"1134\",\"Senegal\",\"pork\",0.94,3.33\\n\"1135\",\"Senegal\",\"poultry\",4.62,4.96\\n\"1136\",\"Senegal\",\"beef\",5.85,180.52\\n\"1137\",\"Senegal\",\"lamb_goat\",3.19,111.71\\n\"1138\",\"Senegal\",\"fish\",22.94,36.63\\n\"1139\",\"Senegal\",\"eggs\",1.63,1.5\\n\"1140\",\"Senegal\",\"dairy\",16.86,24.02\\n\"1141\",\"Senegal\",\"wheat\",37.32,7.12\\n\"1142\",\"Senegal\",\"rice\",72.29,92.51\\n\"1143\",\"Senegal\",\"soybeans\",0,0\\n\"1144\",\"Senegal\",\"nuts\",4.03,7.13\\n\"1145\",\"Peru\",\"pork\",3.85,13.63\\n\"1146\",\"Peru\",\"poultry\",11.72,12.59\\n\"1147\",\"Peru\",\"beef\",4.69,144.72\\n\"1148\",\"Peru\",\"lamb_goat\",1,35.02\\n\"1149\",\"Peru\",\"fish\",15.74,25.13\\n\"1150\",\"Peru\",\"eggs\",8.76,8.05\\n\"1151\",\"Peru\",\"dairy\",62.15,88.53\\n\"1152\",\"Peru\",\"wheat\",56.12,10.7\\n\"1153\",\"Peru\",\"rice\",48.92,62.6\\n\"1154\",\"Peru\",\"soybeans\",1.59,0.72\\n\"1155\",\"Peru\",\"nuts\",0.65,1.15\\n\"1156\",\"Nicaragua\",\"pork\",3.38,11.96\\n\"1157\",\"Nicaragua\",\"poultry\",21.31,22.89\\n\"1158\",\"Nicaragua\",\"beef\",4.73,145.96\\n\"1159\",\"Nicaragua\",\"lamb_goat\",0.01,0.35\\n\"1160\",\"Nicaragua\",\"fish\",3.59,5.73\\n\"1161\",\"Nicaragua\",\"eggs\",4.9,4.5\\n\"1162\",\"Nicaragua\",\"dairy\",85.16,121.3\\n\"1163\",\"Nicaragua\",\"wheat\",28.17,5.37\\n\"1164\",\"Nicaragua\",\"rice\",43.33,55.45\\n\"1165\",\"Nicaragua\",\"soybeans\",0.01,0\\n\"1166\",\"Nicaragua\",\"nuts\",2.36,4.18\\n\"1167\",\"Vietnam\",\"pork\",35,123.88\\n\"1168\",\"Vietnam\",\"poultry\",12.36,13.28\\n\"1169\",\"Vietnam\",\"beef\",7.44,229.58\\n\"1170\",\"Vietnam\",\"lamb_goat\",0.14,4.9\\n\"1171\",\"Vietnam\",\"fish\",26.52,42.34\\n\"1172\",\"Vietnam\",\"eggs\",3.84,3.53\\n\"1173\",\"Vietnam\",\"dairy\",16.36,23.3\\n\"1174\",\"Vietnam\",\"wheat\",10.49,2\\n\"1175\",\"Vietnam\",\"rice\",144.56,184.99\\n\"1176\",\"Vietnam\",\"soybeans\",5.75,2.59\\n\"1177\",\"Vietnam\",\"nuts\",6.28,11.12\\n\"1178\",\"Ethiopia\",\"pork\",0.02,0.07\\n\"1179\",\"Ethiopia\",\"poultry\",0.66,0.71\\n\"1180\",\"Ethiopia\",\"beef\",3.61,111.4\\n\"1181\",\"Ethiopia\",\"lamb_goat\",1.57,54.98\\n\"1182\",\"Ethiopia\",\"fish\",0.24,0.38\\n\"1183\",\"Ethiopia\",\"eggs\",0.36,0.33\\n\"1184\",\"Ethiopia\",\"dairy\",44.14,62.87\\n\"1185\",\"Ethiopia\",\"wheat\",31.26,5.96\\n\"1186\",\"Ethiopia\",\"rice\",2.25,2.88\\n\"1187\",\"Ethiopia\",\"soybeans\",0.45,0.2\\n\"1188\",\"Ethiopia\",\"nuts\",1.21,2.14\\n\"1189\",\"Myanmar\",\"pork\",11.31,40.03\\n\"1190\",\"Myanmar\",\"poultry\",21.87,23.49\\n\"1191\",\"Myanmar\",\"beef\",4.94,152.44\\n\"1192\",\"Myanmar\",\"lamb_goat\",0.89,31.17\\n\"1193\",\"Myanmar\",\"fish\",54.26,86.64\\n\"1194\",\"Myanmar\",\"eggs\",6.45,5.92\\n\"1195\",\"Myanmar\",\"dairy\",31.48,44.84\\n\"1196\",\"Myanmar\",\"wheat\",6.22,1.19\\n\"1197\",\"Myanmar\",\"rice\",132.8,169.94\\n\"1198\",\"Myanmar\",\"soybeans\",0.38,0.17\\n\"1199\",\"Myanmar\",\"nuts\",4.5,7.97\\n\"1200\",\"Congo\",\"pork\",2.39,8.46\\n\"1201\",\"Congo\",\"poultry\",13.02,13.99\\n\"1202\",\"Congo\",\"beef\",4.35,134.23\\n\"1203\",\"Congo\",\"lamb_goat\",0.4,14.01\\n\"1204\",\"Congo\",\"fish\",26.22,41.86\\n\"1205\",\"Congo\",\"eggs\",0.6,0.55\\n\"1206\",\"Congo\",\"dairy\",10.69,15.23\\n\"1207\",\"Congo\",\"wheat\",40.07,7.64\\n\"1208\",\"Congo\",\"rice\",16.51,21.13\\n\"1209\",\"Congo\",\"soybeans\",0,0\\n\"1210\",\"Congo\",\"nuts\",3.08,5.45\\n\"1211\",\"Zambia\",\"pork\",1.66,5.88\\n\"1212\",\"Zambia\",\"poultry\",3.29,3.53\\n\"1213\",\"Zambia\",\"beef\",4.76,146.88\\n\"1214\",\"Zambia\",\"lamb_goat\",0.68,23.81\\n\"1215\",\"Zambia\",\"fish\",6.2,9.9\\n\"1216\",\"Zambia\",\"eggs\",3.32,3.05\\n\"1217\",\"Zambia\",\"dairy\",9.71,13.83\\n\"1218\",\"Zambia\",\"wheat\",12.1,2.31\\n\"1219\",\"Zambia\",\"rice\",3.05,3.9\\n\"1220\",\"Zambia\",\"soybeans\",7.3,3.29\\n\"1221\",\"Zambia\",\"nuts\",5.04,8.92\\n\"1222\",\"Cameroon\",\"pork\",1.47,5.2\\n\"1223\",\"Cameroon\",\"poultry\",3.29,3.53\\n\"1224\",\"Cameroon\",\"beef\",4.17,128.68\\n\"1225\",\"Cameroon\",\"lamb_goat\",1.4,49.03\\n\"1226\",\"Cameroon\",\"fish\",14.71,23.49\\n\"1227\",\"Cameroon\",\"eggs\",0.4,0.37\\n\"1228\",\"Cameroon\",\"dairy\",15.27,21.75\\n\"1229\",\"Cameroon\",\"wheat\",22.6,4.31\\n\"1230\",\"Cameroon\",\"rice\",23.85,30.52\\n\"1231\",\"Cameroon\",\"soybeans\",0.64,0.29\\n\"1232\",\"Cameroon\",\"nuts\",9.29,16.44\\n\"1233\",\"Madagascar\",\"pork\",2.56,9.06\\n\"1234\",\"Madagascar\",\"poultry\",3.14,3.37\\n\"1235\",\"Madagascar\",\"beef\",7.51,231.74\\n\"1236\",\"Madagascar\",\"lamb_goat\",0.57,19.96\\n\"1237\",\"Madagascar\",\"fish\",4.41,7.04\\n\"1238\",\"Madagascar\",\"eggs\",0.71,0.65\\n\"1239\",\"Madagascar\",\"dairy\",24.84,35.38\\n\"1240\",\"Madagascar\",\"wheat\",9.01,1.72\\n\"1241\",\"Madagascar\",\"rice\",102.53,131.21\\n\"1242\",\"Madagascar\",\"soybeans\",0,0\\n\"1243\",\"Madagascar\",\"nuts\",0.35,0.62\\n\"1244\",\"Malawi\",\"pork\",5.45,19.29\\n\"1245\",\"Malawi\",\"poultry\",1.38,1.48\\n\"1246\",\"Malawi\",\"beef\",2.35,72.52\\n\"1247\",\"Malawi\",\"lamb_goat\",2.07,72.49\\n\"1248\",\"Malawi\",\"fish\",7.33,11.7\\n\"1249\",\"Malawi\",\"eggs\",1.08,0.99\\n\"1250\",\"Malawi\",\"dairy\",7.98,11.37\\n\"1251\",\"Malawi\",\"wheat\",11.77,2.24\\n\"1252\",\"Malawi\",\"rice\",4.75,6.08\\n\"1253\",\"Malawi\",\"soybeans\",1.76,0.79\\n\"1254\",\"Malawi\",\"nuts\",5.08,8.99\\n\"1255\",\"Guinea\",\"pork\",0.16,0.57\\n\"1256\",\"Guinea\",\"poultry\",1.83,1.97\\n\"1257\",\"Guinea\",\"beef\",6.26,193.17\\n\"1258\",\"Guinea\",\"lamb_goat\",1.6,56.03\\n\"1259\",\"Guinea\",\"fish\",9.18,14.66\\n\"1260\",\"Guinea\",\"eggs\",1.95,1.79\\n\"1261\",\"Guinea\",\"dairy\",20.62,29.37\\n\"1262\",\"Guinea\",\"wheat\",18.55,3.54\\n\"1263\",\"Guinea\",\"rice\",97.12,124.28\\n\"1264\",\"Guinea\",\"soybeans\",0,0\\n\"1265\",\"Guinea\",\"nuts\",4.14,7.33\\n\"1266\",\"Nigeria\",\"pork\",1.47,5.2\\n\"1267\",\"Nigeria\",\"poultry\",1.73,1.86\\n\"1268\",\"Nigeria\",\"beef\",2.33,71.9\\n\"1269\",\"Nigeria\",\"lamb_goat\",2.72,95.25\\n\"1270\",\"Nigeria\",\"fish\",16.03,25.59\\n\"1271\",\"Nigeria\",\"eggs\",3.46,3.18\\n\"1272\",\"Nigeria\",\"dairy\",7.91,11.27\\n\"1273\",\"Nigeria\",\"wheat\",20.82,3.97\\n\"1274\",\"Nigeria\",\"rice\",28.23,36.13\\n\"1275\",\"Nigeria\",\"soybeans\",2.6,1.17\\n\"1276\",\"Nigeria\",\"nuts\",6.93,12.27\\n\"1277\",\"Rwanda\",\"pork\",0.76,2.69\\n\"1278\",\"Rwanda\",\"poultry\",1.34,1.44\\n\"1279\",\"Rwanda\",\"beef\",2.53,78.07\\n\"1280\",\"Rwanda\",\"lamb_goat\",1.93,67.59\\n\"1281\",\"Rwanda\",\"fish\",3.88,6.2\\n\"1282\",\"Rwanda\",\"eggs\",0.16,0.15\\n\"1283\",\"Rwanda\",\"dairy\",7.23,10.3\\n\"1284\",\"Rwanda\",\"wheat\",11.34,2.16\\n\"1285\",\"Rwanda\",\"rice\",8.7,11.13\\n\"1286\",\"Rwanda\",\"soybeans\",1.93,0.87\\n\"1287\",\"Rwanda\",\"nuts\",0.58,1.03\\n\"1288\",\"Philippines\",\"pork\",18.4,65.13\\n\"1289\",\"Philippines\",\"poultry\",11.91,12.79\\n\"1290\",\"Philippines\",\"beef\",4.06,125.28\\n\"1291\",\"Philippines\",\"lamb_goat\",0.56,19.61\\n\"1292\",\"Philippines\",\"fish\",28.51,45.52\\n\"1293\",\"Philippines\",\"eggs\",4.02,3.69\\n\"1294\",\"Philippines\",\"dairy\",15.66,22.31\\n\"1295\",\"Philippines\",\"wheat\",23.12,4.41\\n\"1296\",\"Philippines\",\"rice\",119.44,152.85\\n\"1297\",\"Philippines\",\"soybeans\",0.03,0.01\\n\"1298\",\"Philippines\",\"nuts\",2.08,3.68\\n\"1299\",\"Ghana\",\"pork\",1.36,4.81\\n\"1300\",\"Ghana\",\"poultry\",8.63,9.27\\n\"1301\",\"Ghana\",\"beef\",1.09,33.64\\n\"1302\",\"Ghana\",\"lamb_goat\",1.74,60.93\\n\"1303\",\"Ghana\",\"fish\",26.05,41.59\\n\"1304\",\"Ghana\",\"eggs\",1.21,1.11\\n\"1305\",\"Ghana\",\"dairy\",9.08,12.93\\n\"1306\",\"Ghana\",\"wheat\",14.45,2.76\\n\"1307\",\"Ghana\",\"rice\",32.03,40.99\\n\"1308\",\"Ghana\",\"soybeans\",0.01,0\\n\"1309\",\"Ghana\",\"nuts\",5.56,9.84\\n\"1310\",\"Togo\",\"pork\",1.57,5.56\\n\"1311\",\"Togo\",\"poultry\",6.63,7.12\\n\"1312\",\"Togo\",\"beef\",1.53,47.21\\n\"1313\",\"Togo\",\"lamb_goat\",1.58,55.33\\n\"1314\",\"Togo\",\"fish\",11.69,18.67\\n\"1315\",\"Togo\",\"eggs\",0.86,0.79\\n\"1316\",\"Togo\",\"dairy\",7.96,11.34\\n\"1317\",\"Togo\",\"wheat\",12.91,2.46\\n\"1318\",\"Togo\",\"rice\",25.99,33.26\\n\"1319\",\"Togo\",\"soybeans\",0.01,0\\n\"1320\",\"Togo\",\"nuts\",3.59,6.35\\n\"1321\",\"Gambia\",\"pork\",0.18,0.64\\n\"1322\",\"Gambia\",\"poultry\",2.66,2.86\\n\"1323\",\"Gambia\",\"beef\",2.16,66.65\\n\"1324\",\"Gambia\",\"lamb_goat\",0.71,24.86\\n\"1325\",\"Gambia\",\"fish\",23.13,36.93\\n\"1326\",\"Gambia\",\"eggs\",0.99,0.91\\n\"1327\",\"Gambia\",\"dairy\",45.71,65.11\\n\"1328\",\"Gambia\",\"wheat\",37.91,7.23\\n\"1329\",\"Gambia\",\"rice\",61.84,79.14\\n\"1330\",\"Gambia\",\"soybeans\",0,0\\n\"1331\",\"Gambia\",\"nuts\",5.27,9.33\\n\"1332\",\"India\",\"pork\",0.28,0.99\\n\"1333\",\"India\",\"poultry\",1.88,2.02\\n\"1334\",\"India\",\"beef\",0.81,24.99\\n\"1335\",\"India\",\"lamb_goat\",0.58,20.31\\n\"1336\",\"India\",\"fish\",4.71,7.52\\n\"1337\",\"India\",\"eggs\",2.58,2.37\\n\"1338\",\"India\",\"dairy\",84.5,120.36\\n\"1339\",\"India\",\"wheat\",60.56,11.55\\n\"1340\",\"India\",\"rice\",69.49,88.93\\n\"1341\",\"India\",\"soybeans\",0.39,0.18\\n\"1342\",\"India\",\"nuts\",1.92,3.4\\n\"1343\",\"Thailand\",\"pork\",13,46.01\\n\"1344\",\"Thailand\",\"poultry\",13.69,14.71\\n\"1345\",\"Thailand\",\"beef\",2.56,79\\n\"1346\",\"Thailand\",\"lamb_goat\",0.05,1.75\\n\"1347\",\"Thailand\",\"fish\",19.45,31.06\\n\"1348\",\"Thailand\",\"eggs\",12.35,11.34\\n\"1349\",\"Thailand\",\"dairy\",29.35,41.81\\n\"1350\",\"Thailand\",\"wheat\",10.93,2.08\\n\"1351\",\"Thailand\",\"rice\",114.57,146.62\\n\"1352\",\"Thailand\",\"soybeans\",2.13,0.96\\n\"1353\",\"Thailand\",\"nuts\",1.5,2.66\\n\"1354\",\"Mozambique\",\"pork\",5.13,18.16\\n\"1355\",\"Mozambique\",\"poultry\",1.41,1.51\\n\"1356\",\"Mozambique\",\"beef\",1.04,32.09\\n\"1357\",\"Mozambique\",\"lamb_goat\",0.9,31.52\\n\"1358\",\"Mozambique\",\"fish\",7.74,12.36\\n\"1359\",\"Mozambique\",\"eggs\",1.7,1.56\\n\"1360\",\"Mozambique\",\"dairy\",4.79,6.82\\n\"1361\",\"Mozambique\",\"wheat\",14.65,2.79\\n\"1362\",\"Mozambique\",\"rice\",23.41,29.96\\n\"1363\",\"Mozambique\",\"soybeans\",0.03,0.01\\n\"1364\",\"Mozambique\",\"nuts\",2.61,4.62\\n\"1365\",\"Cambodia\",\"pork\",6.52,23.08\\n\"1366\",\"Cambodia\",\"poultry\",1.84,1.98\\n\"1367\",\"Cambodia\",\"beef\",4.85,149.66\\n\"1368\",\"Cambodia\",\"lamb_goat\",0,0\\n\"1369\",\"Cambodia\",\"fish\",39.59,63.21\\n\"1370\",\"Cambodia\",\"eggs\",1.37,1.26\\n\"1371\",\"Cambodia\",\"dairy\",3.47,4.94\\n\"1372\",\"Cambodia\",\"wheat\",2.74,0.52\\n\"1373\",\"Cambodia\",\"rice\",159.1,203.6\\n\"1374\",\"Cambodia\",\"soybeans\",4.33,1.95\\n\"1375\",\"Cambodia\",\"nuts\",1.25,2.21\\n\"1376\",\"Sierra Leone\",\"pork\",1.22,4.32\\n\"1377\",\"Sierra Leone\",\"poultry\",4.97,5.34\\n\"1378\",\"Sierra Leone\",\"beef\",1.99,61.41\\n\"1379\",\"Sierra Leone\",\"lamb_goat\",0.65,22.76\\n\"1380\",\"Sierra Leone\",\"fish\",32.03,51.14\\n\"1381\",\"Sierra Leone\",\"eggs\",1.92,1.76\\n\"1382\",\"Sierra Leone\",\"dairy\",7,9.97\\n\"1383\",\"Sierra Leone\",\"wheat\",8.72,1.66\\n\"1384\",\"Sierra Leone\",\"rice\",103.3,132.19\\n\"1385\",\"Sierra Leone\",\"soybeans\",0,0\\n\"1386\",\"Sierra Leone\",\"nuts\",5.57,9.86\\n\"1387\",\"Sri Lanka\",\"pork\",0.05,0.18\\n\"1388\",\"Sri Lanka\",\"poultry\",4.96,5.33\\n\"1389\",\"Sri Lanka\",\"beef\",1.38,42.58\\n\"1390\",\"Sri Lanka\",\"lamb_goat\",0.09,3.15\\n\"1391\",\"Sri Lanka\",\"fish\",24.92,39.79\\n\"1392\",\"Sri Lanka\",\"eggs\",4.57,4.2\\n\"1393\",\"Sri Lanka\",\"dairy\",34.98,49.83\\n\"1394\",\"Sri Lanka\",\"wheat\",37.01,7.06\\n\"1395\",\"Sri Lanka\",\"rice\",109.72,140.41\\n\"1396\",\"Sri Lanka\",\"soybeans\",0,0\\n\"1397\",\"Sri Lanka\",\"nuts\",1.09,1.93\\n\"1398\",\"Indonesia\",\"pork\",2.98,10.55\\n\"1399\",\"Indonesia\",\"poultry\",7.5,8.06\\n\"1400\",\"Indonesia\",\"beef\",2.59,79.92\\n\"1401\",\"Indonesia\",\"lamb_goat\",0.46,16.11\\n\"1402\",\"Indonesia\",\"fish\",25.65,40.95\\n\"1403\",\"Indonesia\",\"eggs\",4.88,4.48\\n\"1404\",\"Indonesia\",\"dairy\",14.82,21.11\\n\"1405\",\"Indonesia\",\"wheat\",25.45,4.85\\n\"1406\",\"Indonesia\",\"rice\",134.62,172.27\\n\"1407\",\"Indonesia\",\"soybeans\",1.12,0.5\\n\"1408\",\"Indonesia\",\"nuts\",4.92,8.71\\n\"1409\",\"Liberia\",\"pork\",4.01,14.19\\n\"1410\",\"Liberia\",\"poultry\",8.91,9.57\\n\"1411\",\"Liberia\",\"beef\",0.78,24.07\\n\"1412\",\"Liberia\",\"lamb_goat\",0.48,16.81\\n\"1413\",\"Liberia\",\"fish\",4.13,6.59\\n\"1414\",\"Liberia\",\"eggs\",2.05,1.88\\n\"1415\",\"Liberia\",\"dairy\",3.04,4.33\\n\"1416\",\"Liberia\",\"wheat\",10.95,2.09\\n\"1417\",\"Liberia\",\"rice\",94.75,121.25\\n\"1418\",\"Liberia\",\"soybeans\",0.63,0.28\\n\"1419\",\"Liberia\",\"nuts\",1.31,2.32\\n\"1420\",\"Bangladesh\",\"pork\",0,0\\n\"1421\",\"Bangladesh\",\"poultry\",1.4,1.5\\n\"1422\",\"Bangladesh\",\"beef\",1.28,39.5\\n\"1423\",\"Bangladesh\",\"lamb_goat\",1.33,46.58\\n\"1424\",\"Bangladesh\",\"fish\",18.07,28.85\\n\"1425\",\"Bangladesh\",\"eggs\",2.08,1.91\\n\"1426\",\"Bangladesh\",\"dairy\",21.91,31.21\\n\"1427\",\"Bangladesh\",\"wheat\",17.47,3.33\\n\"1428\",\"Bangladesh\",\"rice\",171.73,219.76\\n\"1429\",\"Bangladesh\",\"soybeans\",0.61,0.27\\n\"1430\",\"Bangladesh\",\"nuts\",0.72,1.27\\n'}"
            ]
          },
          "metadata": {},
          "execution_count": 4
        }
      ]
    },
    {
      "cell_type": "code",
      "source": [
        "food_consumption = pd.read_csv(\"food_consumption.csv\")\n",
        "print(food_consumption.head())"
      ],
      "metadata": {
        "colab": {
          "base_uri": "https://localhost:8080/"
        },
        "id": "L6zJbdwSiB0G",
        "outputId": "906ec8c1-ffea-49d2-c239-0405af2f7976"
      },
      "execution_count": 7,
      "outputs": [
        {
          "output_type": "stream",
          "name": "stdout",
          "text": [
            "   Unnamed: 0    country food_category  consumption  co2_emission\n",
            "0           1  Argentina          pork        10.51         37.20\n",
            "1           2  Argentina       poultry        38.66         41.53\n",
            "2           3  Argentina          beef        55.48       1712.00\n",
            "3           4  Argentina     lamb_goat         1.56         54.63\n",
            "4           5  Argentina          fish         4.36          6.96\n"
          ]
        }
      ]
    },
    {
      "cell_type": "code",
      "source": [
        "be_consumption = food_consumption[food_consumption[\"country\"] == \"Belgium\"]\n",
        "print(be_consumption.head())"
      ],
      "metadata": {
        "colab": {
          "base_uri": "https://localhost:8080/"
        },
        "id": "9e2R3_1jiagv",
        "outputId": "7cf3f4df-8925-4645-acf6-f1b82f32caf1"
      },
      "execution_count": 11,
      "outputs": [
        {
          "output_type": "stream",
          "name": "stdout",
          "text": [
            "     Unnamed: 0  country food_category  consumption  co2_emission\n",
            "396         397  Belgium          pork        38.65        136.80\n",
            "397         398  Belgium       poultry        12.20         13.11\n",
            "398         399  Belgium          beef        15.63        482.31\n",
            "399         400  Belgium     lamb_goat         1.32         46.23\n",
            "400         401  Belgium          fish        18.97         30.29\n"
          ]
        }
      ]
    },
    {
      "cell_type": "code",
      "source": [
        "# Import numpy as np\n",
        "import numpy as np\n",
        "\n",
        "# Subset for Belgium and USA only\n",
        "be_and_usa = food_consumption[(food_consumption[\"country\"] == \"Belgium\") | (food_consumption[\"country\"] == \"USA\")]\n",
        "\n",
        "# Group by country, select consumption column, and compute mean and median\n",
        "print(be_and_usa.groupby(\"country\")[\"consumption\"].agg([np.mean,np.median]))"
      ],
      "metadata": {
        "colab": {
          "base_uri": "https://localhost:8080/"
        },
        "id": "J3twWZ62i614",
        "outputId": "6f4a6a70-f968-4490-90da-62d1684d46d6"
      },
      "execution_count": 12,
      "outputs": [
        {
          "output_type": "stream",
          "name": "stdout",
          "text": [
            "              mean  median\n",
            "country                   \n",
            "Belgium  42.132727   12.59\n",
            "USA      44.650000   14.58\n"
          ]
        }
      ]
    },
    {
      "cell_type": "code",
      "source": [
        "# Subset for food_category equals rice\n",
        "rice_consumption = food_consumption[food_consumption['food_category'] == 'rice']\n",
        "\n",
        "# Calculate mean and median of co2_emission with .agg()\n",
        "print(rice_consumption.agg([np.mean,np.median]))"
      ],
      "metadata": {
        "colab": {
          "base_uri": "https://localhost:8080/"
        },
        "id": "vE22z-JblypZ",
        "outputId": "8d5187b1-4da7-4e59-da59-a0e609550888"
      },
      "execution_count": 13,
      "outputs": [
        {
          "output_type": "stream",
          "name": "stdout",
          "text": [
            "        Unnamed: 0  consumption  co2_emission\n",
            "mean         718.5    29.375154     37.591615\n",
            "median       718.5    11.875000     15.200000\n"
          ]
        }
      ]
    },
    {
      "cell_type": "code",
      "source": [
        "# Calculate the deciles of co2_emission\n",
        "print(np.quantile(food_consumption['co2_emission'],np.linspace(0, 1, 11)))"
      ],
      "metadata": {
        "colab": {
          "base_uri": "https://localhost:8080/"
        },
        "id": "5kISjS8Qmuu_",
        "outputId": "717cfe2d-a41e-4fbe-9395-e5df8a42125a"
      },
      "execution_count": 14,
      "outputs": [
        {
          "output_type": "stream",
          "name": "stdout",
          "text": [
            "[0.00000e+00 6.68000e-01 3.54000e+00 7.04000e+00 1.10260e+01 1.65300e+01\n",
            " 2.55900e+01 4.42710e+01 9.99780e+01 2.03629e+02 1.71200e+03]\n"
          ]
        }
      ]
    },
    {
      "cell_type": "code",
      "source": [
        "# Print variance and sd of co2_emission for each food_category\n",
        "print(food_consumption.groupby(\"food_category\")[\"co2_emission\"].agg([np.var,np.std]))\n",
        "\n",
        "# Import matplotlib.pyplot with alias plt\n",
        "import matplotlib.pyplot as plt\n",
        "\n",
        "# Create histogram of co2_emission for food_category 'beef'\n",
        "food_consumption[food_consumption['food_category']=='beef'].hist()\n",
        "# Show plot\n",
        "plt.show()\n",
        "\n",
        "# Create histogram of co2_emission for food_category 'eggs'\n",
        "food_consumption[food_consumption['food_category']=='eggs'].hist()\n",
        "# Show plot\n",
        "plt.show()"
      ],
      "metadata": {
        "colab": {
          "base_uri": "https://localhost:8080/",
          "height": 771
        },
        "id": "JDSufLNgphQV",
        "outputId": "d7c9cfe4-8981-40fb-acc9-529481421f2c"
      },
      "execution_count": 17,
      "outputs": [
        {
          "output_type": "stream",
          "name": "stdout",
          "text": [
            "                        var         std\n",
            "food_category                          \n",
            "beef           88748.408132  297.906710\n",
            "dairy          17671.891985  132.935669\n",
            "eggs              21.371819    4.622966\n",
            "fish             921.637349   30.358481\n",
            "lamb_goat      16475.518363  128.356996\n",
            "nuts              35.639652    5.969895\n",
            "pork            3094.963537   55.632396\n",
            "poultry          245.026801   15.653332\n",
            "rice            2281.376243   47.763754\n",
            "soybeans           0.879882    0.938020\n",
            "wheat             71.023937    8.427570\n"
          ]
        },
        {
          "output_type": "display_data",
          "data": {
            "text/plain": [
              "<Figure size 432x288 with 4 Axes>"
            ],
            "image/png": "[encoded data removed]"
          },
          "metadata": {
            "needs_background": "light"
          }
        },
        {
          "output_type": "display_data",
          "data": {
            "text/plain": [
              "<Figure size 432x288 with 4 Axes>"
            ],
            "image/png": "[encoded data removed]"
          },
          "metadata": {
            "needs_background": "light"
          }
        }
      ]
    },
    {
      "cell_type": "code",
      "source": [
        "# Calculate total co2_emission per country: emissions_by_country\n",
        "emissions_by_country = food_consumption.groupby('country')['co2_emission'].sum()\n",
        "\n",
        "# Compute the first and third quantiles and IQR of emissions_by_country\n",
        "q1 = np.quantile(emissions_by_country, 0.25)\n",
        "q3 = np.quantile(emissions_by_country, 0.75)\n",
        "iqr = q3 - q1\n",
        "\n",
        "# Calculate the lower and upper cutoffs for outliers\n",
        "lower = q1 - 1.5 * iqr\n",
        "upper = q3 + 1.5 * iqr\n",
        "\n",
        "# Subset emissions_by_country to find outliers\n",
        "outliers = emissions_by_country[(emissions_by_country > upper) | (emissions_by_country < lower)]\n",
        "print(outliers)"
      ],
      "metadata": {
        "colab": {
          "base_uri": "https://localhost:8080/"
        },
        "id": "VpMWhSjGqGKP",
        "outputId": "6ed63a72-3e3f-41fb-9b81-19d8879a8abe"
      },
      "execution_count": 19,
      "outputs": [
        {
          "output_type": "stream",
          "name": "stdout",
          "text": [
            "country\n",
            "Argentina    2172.4\n",
            "Name: co2_emission, dtype: float64\n"
          ]
        }
      ]
    },
    {
      "cell_type": "code",
      "source": [],
      "metadata": {
        "id": "NDsR02H_sOqA"
      },
      "execution_count": null,
      "outputs": []
    }
  ]
}