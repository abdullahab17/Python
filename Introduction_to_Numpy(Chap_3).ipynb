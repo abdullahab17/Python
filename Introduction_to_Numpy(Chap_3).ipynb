{
  "nbformat": 4,
  "nbformat_minor": 0,
  "metadata": {
    "colab": {
      "provenance": [],
      "collapsed_sections": []
    },
    "kernelspec": {
      "name": "python3",
      "display_name": "Python 3"
    },
    "language_info": {
      "name": "python"
    }
  },
  "cells": [
    {
      "cell_type": "code",
      "execution_count": 1,
      "metadata": {
        "id": "zcJE7WLW03Un"
      },
      "outputs": [],
      "source": [
        "import numpy as np\n",
        "import matplotlib.pyplot as plt"
      ]
    },
    {
      "cell_type": "code",
      "source": [
        "from google.colab import files\n",
        "files.upload()"
      ],
      "metadata": {
        "colab": {
          "base_uri": "https://localhost:8080/",
          "height": 146
        },
        "id": "BfDhjCSu1Eum",
        "outputId": "3bed90c6-37a7-4c97-db44-b3754afb7ab1"
      },
      "execution_count": 2,
      "outputs": [
        {
          "output_type": "display_data",
          "data": {
            "text/plain": [
              "<IPython.core.display.HTML object>"
            ],
            "text/html": [
              "\n",
              "     <input type=\"file\" id=\"files-32f5ff03-f9ca-45ee-bf67-f566f3e0d8cf\" name=\"files[]\" multiple disabled\n",
              "        style=\"border:none\" />\n",
              "     <output id=\"result-32f5ff03-f9ca-45ee-bf67-f566f3e0d8cf\">\n",
              "      Upload widget is only available when the cell has been executed in the\n",
              "      current browser session. Please rerun this cell to enable.\n",
              "      </output>\n",
              "      <script>// Copyright 2017 Google LLC\n",
              "//\n",
              "// Licensed under the Apache License, Version 2.0 (the \"License\");\n",
              "// you may not use this file except in compliance with the License.\n",
              "// You may obtain a copy of the License at\n",
              "//\n",
              "//      http://www.apache.org/licenses/LICENSE-2.0\n",
              "//\n",
              "// Unless required by applicable law or agreed to in writing, software\n",
              "// distributed under the License is distributed on an \"AS IS\" BASIS,\n",
              "// WITHOUT WARRANTIES OR CONDITIONS OF ANY KIND, either express or implied.\n",
              "// See the License for the specific language governing permissions and\n",
              "// limitations under the License.\n",
              "\n",
              "/**\n",
              " * @fileoverview Helpers for google.colab Python module.\n",
              " */\n",
              "(function(scope) {\n",
              "function span(text, styleAttributes = {}) {\n",
              "  const element = document.createElement('span');\n",
              "  element.textContent = text;\n",
              "  for (const key of Object.keys(styleAttributes)) {\n",
              "    element.style[key] = styleAttributes[key];\n",
              "  }\n",
              "  return element;\n",
              "}\n",
              "\n",
              "// Max number of bytes which will be uploaded at a time.\n",
              "const MAX_PAYLOAD_SIZE = 100 * 1024;\n",
              "\n",
              "function _uploadFiles(inputId, outputId) {\n",
              "  const steps = uploadFilesStep(inputId, outputId);\n",
              "  const outputElement = document.getElementById(outputId);\n",
              "  // Cache steps on the outputElement to make it available for the next call\n",
              "  // to uploadFilesContinue from Python.\n",
              "  outputElement.steps = steps;\n",
              "\n",
              "  return _uploadFilesContinue(outputId);\n",
              "}\n",
              "\n",
              "// This is roughly an async generator (not supported in the browser yet),\n",
              "// where there are multiple asynchronous steps and the Python side is going\n",
              "// to poll for completion of each step.\n",
              "// This uses a Promise to block the python side on completion of each step,\n",
              "// then passes the result of the previous step as the input to the next step.\n",
              "function _uploadFilesContinue(outputId) {\n",
              "  const outputElement = document.getElementById(outputId);\n",
              "  const steps = outputElement.steps;\n",
              "\n",
              "  const next = steps.next(outputElement.lastPromiseValue);\n",
              "  return Promise.resolve(next.value.promise).then((value) => {\n",
              "    // Cache the last promise value to make it available to the next\n",
              "    // step of the generator.\n",
              "    outputElement.lastPromiseValue = value;\n",
              "    return next.value.response;\n",
              "  });\n",
              "}\n",
              "\n",
              "/**\n",
              " * Generator function which is called between each async step of the upload\n",
              " * process.\n",
              " * @param {string} inputId Element ID of the input file picker element.\n",
              " * @param {string} outputId Element ID of the output display.\n",
              " * @return {!Iterable<!Object>} Iterable of next steps.\n",
              " */\n",
              "function* uploadFilesStep(inputId, outputId) {\n",
              "  const inputElement = document.getElementById(inputId);\n",
              "  inputElement.disabled = false;\n",
              "\n",
              "  const outputElement = document.getElementById(outputId);\n",
              "  outputElement.innerHTML = '';\n",
              "\n",
              "  const pickedPromise = new Promise((resolve) => {\n",
              "    inputElement.addEventListener('change', (e) => {\n",
              "      resolve(e.target.files);\n",
              "    });\n",
              "  });\n",
              "\n",
              "  const cancel = document.createElement('button');\n",
              "  inputElement.parentElement.appendChild(cancel);\n",
              "  cancel.textContent = 'Cancel upload';\n",
              "  const cancelPromise = new Promise((resolve) => {\n",
              "    cancel.onclick = () => {\n",
              "      resolve(null);\n",
              "    };\n",
              "  });\n",
              "\n",
              "  // Wait for the user to pick the files.\n",
              "  const files = yield {\n",
              "    promise: Promise.race([pickedPromise, cancelPromise]),\n",
              "    response: {\n",
              "      action: 'starting',\n",
              "    }\n",
              "  };\n",
              "\n",
              "  cancel.remove();\n",
              "\n",
              "  // Disable the input element since further picks are not allowed.\n",
              "  inputElement.disabled = true;\n",
              "\n",
              "  if (!files) {\n",
              "    return {\n",
              "      response: {\n",
              "        action: 'complete',\n",
              "      }\n",
              "    };\n",
              "  }\n",
              "\n",
              "  for (const file of files) {\n",
              "    const li = document.createElement('li');\n",
              "    li.append(span(file.name, {fontWeight: 'bold'}));\n",
              "    li.append(span(\n",
              "        `(${file.type || 'n/a'}) - ${file.size} bytes, ` +\n",
              "        `last modified: ${\n",
              "            file.lastModifiedDate ? file.lastModifiedDate.toLocaleDateString() :\n",
              "                                    'n/a'} - `));\n",
              "    const percent = span('0% done');\n",
              "    li.appendChild(percent);\n",
              "\n",
              "    outputElement.appendChild(li);\n",
              "\n",
              "    const fileDataPromise = new Promise((resolve) => {\n",
              "      const reader = new FileReader();\n",
              "      reader.onload = (e) => {\n",
              "        resolve(e.target.result);\n",
              "      };\n",
              "      reader.readAsArrayBuffer(file);\n",
              "    });\n",
              "    // Wait for the data to be ready.\n",
              "    let fileData = yield {\n",
              "      promise: fileDataPromise,\n",
              "      response: {\n",
              "        action: 'continue',\n",
              "      }\n",
              "    };\n",
              "\n",
              "    // Use a chunked sending to avoid message size limits. See b/62115660.\n",
              "    let position = 0;\n",
              "    do {\n",
              "      const length = Math.min(fileData.byteLength - position, MAX_PAYLOAD_SIZE);\n",
              "      const chunk = new Uint8Array(fileData, position, length);\n",
              "      position += length;\n",
              "\n",
              "      const base64 = btoa(String.fromCharCode.apply(null, chunk));\n",
              "      yield {\n",
              "        response: {\n",
              "          action: 'append',\n",
              "          file: file.name,\n",
              "          data: base64,\n",
              "        },\n",
              "      };\n",
              "\n",
              "      let percentDone = fileData.byteLength === 0 ?\n",
              "          100 :\n",
              "          Math.round((position / fileData.byteLength) * 100);\n",
              "      percent.textContent = `${percentDone}% done`;\n",
              "\n",
              "    } while (position < fileData.byteLength);\n",
              "  }\n",
              "\n",
              "  // All done.\n",
              "  yield {\n",
              "    response: {\n",
              "      action: 'complete',\n",
              "    }\n",
              "  };\n",
              "}\n",
              "\n",
              "scope.google = scope.google || {};\n",
              "scope.google.colab = scope.google.colab || {};\n",
              "scope.google.colab._files = {\n",
              "  _uploadFiles,\n",
              "  _uploadFilesContinue,\n",
              "};\n",
              "})(self);\n",
              "</script> "
            ]
          },
          "metadata": {}
        },
        {
          "output_type": "stream",
          "name": "stdout",
          "text": [
            "Saving monthly_sales.npy to monthly_sales.npy\n"
          ]
        },
        {
          "output_type": "execute_result",
          "data": {
            "text/plain": [
              "{'monthly_sales.npy': b'\\x93NUMPY\\x01\\x00v\\x00{\\'descr\\': \\'<i8\\', \\'fortran_order\\': False, \\'shape\\': (12, 3), }                                                         \\n&\\x10\\x00\\x00\\x00\\x00\\x00\\x00u]\\x00\\x00\\x00\\x00\\x00\\x00\\xd1!\\x00\\x00\\x00\\x00\\x00\\x00\\x14\\x10\\x00\\x00\\x00\\x00\\x00\\x00C]\\x00\\x00\\x00\\x00\\x00\\x00\\xb6#\\x00\\x00\\x00\\x00\\x00\\x00A\\x12\\x00\\x00\\x00\\x00\\x00\\x00=j\\x00\\x00\\x00\\x00\\x00\\x00\\x95)\\x00\\x00\\x00\\x00\\x00\\x00\\xe4\\x11\\x00\\x00\\x00\\x00\\x00\\x00%d\\x00\\x00\\x00\\x00\\x00\\x00\\xd8(\\x00\\x00\\x00\\x00\\x00\\x00\\xf5\\x13\\x00\\x00\\x00\\x00\\x00\\x00[m\\x00\\x00\\x00\\x00\\x00\\x00#,\\x00\\x00\\x00\\x00\\x00\\x00\\x93\\x13\\x00\\x00\\x00\\x00\\x00\\x00\\x1bk\\x00\\x00\\x00\\x00\\x00\\x00\\x81)\\x00\\x00\\x00\\x00\\x00\\x00}\\x14\\x00\\x00\\x00\\x00\\x00\\x00\\xa9j\\x00\\x00\\x00\\x00\\x00\\x00\\x86)\\x00\\x00\\x00\\x00\\x00\\x00\\x96\\x14\\x00\\x00\\x00\\x00\\x00\\x00pl\\x00\\x00\\x00\\x00\\x00\\x00\\x1e-\\x00\\x00\\x00\\x00\\x00\\x00H\\x12\\x00\\x00\\x00\\x00\\x00\\x00\\x9ca\\x00\\x00\\x00\\x00\\x00\\x00\"&\\x00\\x00\\x00\\x00\\x00\\x001\\x13\\x00\\x00\\x00\\x00\\x00\\x00\\xcad\\x00\\x00\\x00\\x00\\x00\\x00\\xd8(\\x00\\x00\\x00\\x00\\x00\\x00\\xc0\\x14\\x00\\x00\\x00\\x00\\x00\\x00=c\\x00\\x00\\x00\\x00\\x00\\x00Y4\\x00\\x00\\x00\\x00\\x00\\x00\\xe6\\x19\\x00\\x00\\x00\\x00\\x00\\x00\\x95l\\x00\\x00\\x00\\x00\\x00\\x00\\xe3G\\x00\\x00\\x00\\x00\\x00\\x00'}"
            ]
          },
          "metadata": {},
          "execution_count": 2
        }
      ]
    },
    {
      "cell_type": "code",
      "source": [
        "monthly_sales = np.load(\"monthly_sales.npy\")\n",
        "print(monthly_sales)"
      ],
      "metadata": {
        "colab": {
          "base_uri": "https://localhost:8080/"
        },
        "id": "9LjL27Uh1JKe",
        "outputId": "16187322-003e-4371-e23b-49b562d06379"
      },
      "execution_count": 3,
      "outputs": [
        {
          "output_type": "stream",
          "name": "stdout",
          "text": [
            "[[ 4134 23925  8657]\n",
            " [ 4116 23875  9142]\n",
            " [ 4673 27197 10645]\n",
            " [ 4580 25637 10456]\n",
            " [ 5109 27995 11299]\n",
            " [ 5011 27419 10625]\n",
            " [ 5245 27305 10630]\n",
            " [ 5270 27760 11550]\n",
            " [ 4680 24988  9762]\n",
            " [ 4913 25802 10456]\n",
            " [ 5312 25405 13401]\n",
            " [ 6630 27797 18403]]\n"
          ]
        }
      ]
    },
    {
      "cell_type": "code",
      "source": [
        "monthly_industry_sales = monthly_sales.sum(axis=1, keepdims = True)\n",
        "print(monthly_industry_sales)"
      ],
      "metadata": {
        "colab": {
          "base_uri": "https://localhost:8080/"
        },
        "id": "L6DsUv_N3FUz",
        "outputId": "4b768e46-d0ac-49c0-ee75-12976f71235d"
      },
      "execution_count": 6,
      "outputs": [
        {
          "output_type": "stream",
          "name": "stdout",
          "text": [
            "[[36716]\n",
            " [37133]\n",
            " [42515]\n",
            " [40673]\n",
            " [44403]\n",
            " [43055]\n",
            " [43180]\n",
            " [44580]\n",
            " [39430]\n",
            " [41171]\n",
            " [44118]\n",
            " [52830]]\n"
          ]
        }
      ]
    },
    {
      "cell_type": "code",
      "source": [
        "monthly_sales_total = np.concatenate((monthly_sales, monthly_industry_sales), axis = 1)\n",
        "print(monthly_sales_total)"
      ],
      "metadata": {
        "colab": {
          "base_uri": "https://localhost:8080/"
        },
        "id": "k-RDnEdT3VZx",
        "outputId": "2b585e0a-855f-49fc-cb88-1b0445399d7d"
      },
      "execution_count": 7,
      "outputs": [
        {
          "output_type": "stream",
          "name": "stdout",
          "text": [
            "[[ 4134 23925  8657 36716]\n",
            " [ 4116 23875  9142 37133]\n",
            " [ 4673 27197 10645 42515]\n",
            " [ 4580 25637 10456 40673]\n",
            " [ 5109 27995 11299 44403]\n",
            " [ 5011 27419 10625 43055]\n",
            " [ 5245 27305 10630 43180]\n",
            " [ 5270 27760 11550 44580]\n",
            " [ 4680 24988  9762 39430]\n",
            " [ 4913 25802 10456 41171]\n",
            " [ 5312 25405 13401 44118]\n",
            " [ 6630 27797 18403 52830]]\n"
          ]
        }
      ]
    },
    {
      "cell_type": "code",
      "source": [
        "# Create the 1D array avg_monthly_sales\n",
        "avg_monthly_sales = monthly_sales.mean(axis=1)\n",
        "print(avg_monthly_sales)\n",
        "\n",
        "# Plot avg_monthly_sales by month\n",
        "plt.plot(np.arange(1,13), avg_monthly_sales, label=\"Average sales across industries\")\n",
        "\n",
        "# Plot department store sales by month\n",
        "plt.plot(np.arange(1,13), monthly_sales, label=\"Department store sales\")\n",
        "plt.legend()\n",
        "plt.show()"
      ],
      "metadata": {
        "colab": {
          "base_uri": "https://localhost:8080/",
          "height": 317
        },
        "id": "NO12nrMg5E1c",
        "outputId": "55fd8668-8bb2-4892-a233-9edbc330397a"
      },
      "execution_count": 10,
      "outputs": [
        {
          "output_type": "stream",
          "name": "stdout",
          "text": [
            "[12238.66666667 12377.66666667 14171.66666667 13557.66666667\n",
            " 14801.         14351.66666667 14393.33333333 14860.\n",
            " 13143.33333333 13723.66666667 14706.         17610.        ]\n"
          ]
        },
        {
          "output_type": "display_data",
          "data": {
            "text/plain": [
              "<Figure size 432x288 with 1 Axes>"
            ],
            "image/png": "[encoded data removed]"
          },
          "metadata": {
            "needs_background": "light"
          }
        }
      ]
    },
    {
      "cell_type": "code",
      "source": [
        "# Find cumulative monthly sales for each industry\n",
        "cumulative_monthly_industry_sales = monthly_sales.cumsum(axis=0)\n",
        "print(cumulative_monthly_industry_sales)\n",
        "\n",
        "# Plot each industry's cumulative sales by month as separate lines\n",
        "plt.plot(np.arange(1, 13), cumulative_monthly_industry_sales[:,0], label=\"Liquor Stores\")\n",
        "plt.plot(np.arange(1, 13), cumulative_monthly_industry_sales[:,1], label=\"Restaurants\")\n",
        "plt.plot(np.arange(1, 13), cumulative_monthly_industry_sales[:,2], label=\"Department stores\")\n",
        "plt.legend()\n",
        "plt.show()"
      ],
      "metadata": {
        "colab": {
          "base_uri": "https://localhost:8080/",
          "height": 473
        },
        "id": "wrBEnr4E68PA",
        "outputId": "f5598308-b127-40bf-f082-b27d33b31c8e"
      },
      "execution_count": 11,
      "outputs": [
        {
          "output_type": "stream",
          "name": "stdout",
          "text": [
            "[[  4134  23925   8657]\n",
            " [  8250  47800  17799]\n",
            " [ 12923  74997  28444]\n",
            " [ 17503 100634  38900]\n",
            " [ 22612 128629  50199]\n",
            " [ 27623 156048  60824]\n",
            " [ 32868 183353  71454]\n",
            " [ 38138 211113  83004]\n",
            " [ 42818 236101  92766]\n",
            " [ 47731 261903 103222]\n",
            " [ 53043 287308 116623]\n",
            " [ 59673 315105 135026]]\n"
          ]
        },
        {
          "output_type": "display_data",
          "data": {
            "text/plain": [
              "<Figure size 432x288 with 1 Axes>"
            ],
            "image/png": "[encoded data removed]"
          },
          "metadata": {
            "needs_background": "light"
          }
        }
      ]
    },
    {
      "cell_type": "code",
      "source": [
        "# Create an array of tax collected by industry and month\n",
        "tax_collected = monthly_sales * 0.05\n",
        "print(tax_collected)\n",
        "\n",
        "# Create an array of sales revenue plus tax collected by industry and month\n",
        "total_tax_and_revenue = tax_collected + monthly_sales\n",
        "print(total_tax_and_revenue)"
      ],
      "metadata": {
        "colab": {
          "base_uri": "https://localhost:8080/"
        },
        "id": "g0ESnZOs8kVA",
        "outputId": "43c44f91-aa41-44c5-e8e7-b4e3a35c9f6b"
      },
      "execution_count": 12,
      "outputs": [
        {
          "output_type": "stream",
          "name": "stdout",
          "text": [
            "[[ 206.7  1196.25  432.85]\n",
            " [ 205.8  1193.75  457.1 ]\n",
            " [ 233.65 1359.85  532.25]\n",
            " [ 229.   1281.85  522.8 ]\n",
            " [ 255.45 1399.75  564.95]\n",
            " [ 250.55 1370.95  531.25]\n",
            " [ 262.25 1365.25  531.5 ]\n",
            " [ 263.5  1388.    577.5 ]\n",
            " [ 234.   1249.4   488.1 ]\n",
            " [ 245.65 1290.1   522.8 ]\n",
            " [ 265.6  1270.25  670.05]\n",
            " [ 331.5  1389.85  920.15]]\n",
            "[[ 4340.7  25121.25  9089.85]\n",
            " [ 4321.8  25068.75  9599.1 ]\n",
            " [ 4906.65 28556.85 11177.25]\n",
            " [ 4809.   26918.85 10978.8 ]\n",
            " [ 5364.45 29394.75 11863.95]\n",
            " [ 5261.55 28789.95 11156.25]\n",
            " [ 5507.25 28670.25 11161.5 ]\n",
            " [ 5533.5  29148.   12127.5 ]\n",
            " [ 4914.   26237.4  10250.1 ]\n",
            " [ 5158.65 27092.1  10978.8 ]\n",
            " [ 5577.6  26675.25 14071.05]\n",
            " [ 6961.5  29186.85 19323.15]]\n"
          ]
        }
      ]
    },
    {
      "cell_type": "code",
      "source": [
        "monthly_industry_multipliers = np.array([[0.98, 1.02, 1.  ],\n",
        "       [1.00, 1.01, 0.97],\n",
        "       [1.06, 1.03, 0.98],\n",
        "       [1.08, 1.01, 0.98],\n",
        "       [1.08, 0.98, 0.98],\n",
        "       [1.1 , 0.99, 0.99],\n",
        "       [1.12, 1.01, 1.  ],\n",
        "       [1.1 , 1.02, 1.  ],\n",
        "       [1.11, 1.01, 1.01],\n",
        "       [1.08, 0.99, 0.97],\n",
        "       [1.09, 1.  , 1.02],\n",
        "       [1.13, 1.03, 1.02]])\n",
        "\n",
        "# Create an array of monthly projected sales for all industries\n",
        "projected_monthly_sales = monthly_sales * monthly_industry_multipliers\n",
        "print(projected_monthly_sales)\n",
        "\n",
        "# Graph current liquor store sales and projected liquor store sales by month\n",
        "plt.plot(np.arange(1,13), monthly_sales[:,0], label=\"Current liquor store sales\")\n",
        "plt.plot(np.arange(1,13), projected_monthly_sales[:,0], label=\"Projected liquor store sales\")\n",
        "plt.legend()\n",
        "plt.show()"
      ],
      "metadata": {
        "colab": {
          "base_uri": "https://localhost:8080/",
          "height": 473
        },
        "id": "EMViJuFs-ePB",
        "outputId": "75950eaf-ecc4-4b89-9a4c-1bd9294df5b7"
      },
      "execution_count": 14,
      "outputs": [
        {
          "output_type": "stream",
          "name": "stdout",
          "text": [
            "[[ 4051.32 24403.5   8657.  ]\n",
            " [ 4116.   24113.75  8867.74]\n",
            " [ 4953.38 28012.91 10432.1 ]\n",
            " [ 4946.4  25893.37 10246.88]\n",
            " [ 5517.72 27435.1  11073.02]\n",
            " [ 5512.1  27144.81 10518.75]\n",
            " [ 5874.4  27578.05 10630.  ]\n",
            " [ 5797.   28315.2  11550.  ]\n",
            " [ 5194.8  25237.88  9859.62]\n",
            " [ 5306.04 25543.98 10142.32]\n",
            " [ 5790.08 25405.   13669.02]\n",
            " [ 7491.9  28630.91 18771.06]]\n"
          ]
        },
        {
          "output_type": "display_data",
          "data": {
            "text/plain": [
              "<Figure size 432x288 with 1 Axes>"
            ],
            "image/png": "[encoded data removed]"
          },
          "metadata": {
            "needs_background": "light"
          }
        }
      ]
    },
    {
      "cell_type": "code",
      "source": [
        "names = np.array([[\"Izzy\", \"Monica\", \"Marvin\"],\n",
        "                  [\"Weber\", \"Patel\", \"Hernandez\"]])\n",
        "\n",
        "# Vectorize the .upper() string method\n",
        "vectorized_upper = np.vectorize(str.upper)\n",
        "\n",
        "# Apply vectorized_upper to the names array\n",
        "uppercase_names = vectorized_upper(names)\n",
        "print(uppercase_names)"
      ],
      "metadata": {
        "colab": {
          "base_uri": "https://localhost:8080/"
        },
        "id": "j1SGA42nASBs",
        "outputId": "ea16b748-d8e7-4539-97ba-62503271477b"
      },
      "execution_count": 15,
      "outputs": [
        {
          "output_type": "stream",
          "name": "stdout",
          "text": [
            "[['IZZY' 'MONICA' 'MARVIN']\n",
            " ['WEBER' 'PATEL' 'HERNANDEZ']]\n"
          ]
        }
      ]
    },
    {
      "cell_type": "code",
      "source": [
        "\n",
        "# Convert monthly_growth_rate into a NumPy array\n",
        "monthly_growth_1D = np.array(monthly_growth_rate)\n",
        "\n",
        "# Reshape monthly_growth_1D\n",
        "monthly_growth_2D = monthly_growth_1D.reshape((12, 1))\n",
        "\n",
        "# Multiply each column in monthly_sales by monthly_growth_2D\n",
        "print(monthly_growth_2D * monthly_sales)"
      ],
      "metadata": {
        "colab": {
          "base_uri": "https://localhost:8080/",
          "height": 235
        },
        "id": "cK9_vk7MBdgi",
        "outputId": "ed207cca-a920-4864-ffd9-81c74f21b0d6"
      },
      "execution_count": 19,
      "outputs": [
        {
          "output_type": "error",
          "ename": "NameError",
          "evalue": "ignored",
          "traceback": [
            "\u001b[0;31m---------------------------------------------------------------------------\u001b[0m",
            "\u001b[0;31mNameError\u001b[0m                                 Traceback (most recent call last)",
            "\u001b[0;32m<ipython-input-19-cea9ab785959>\u001b[0m in \u001b[0;36m<module>\u001b[0;34m\u001b[0m\n\u001b[1;32m      1\u001b[0m \u001b[0;31m# Convert monthly_growth_rate into a NumPy array\u001b[0m\u001b[0;34m\u001b[0m\u001b[0;34m\u001b[0m\u001b[0;34m\u001b[0m\u001b[0m\n\u001b[0;32m----> 2\u001b[0;31m \u001b[0mmonthly_growth_1D\u001b[0m \u001b[0;34m=\u001b[0m \u001b[0mnp\u001b[0m\u001b[0;34m.\u001b[0m\u001b[0marray\u001b[0m\u001b[0;34m(\u001b[0m\u001b[0mmonthly_growth_rate\u001b[0m\u001b[0;34m)\u001b[0m\u001b[0;34m\u001b[0m\u001b[0;34m\u001b[0m\u001b[0m\n\u001b[0m\u001b[1;32m      3\u001b[0m \u001b[0;34m\u001b[0m\u001b[0m\n\u001b[1;32m      4\u001b[0m \u001b[0;31m# Reshape monthly_growth_1D\u001b[0m\u001b[0;34m\u001b[0m\u001b[0;34m\u001b[0m\u001b[0;34m\u001b[0m\u001b[0m\n\u001b[1;32m      5\u001b[0m \u001b[0mmonthly_growth_2D\u001b[0m \u001b[0;34m=\u001b[0m \u001b[0mmonthly_growth_1D\u001b[0m\u001b[0;34m.\u001b[0m\u001b[0mreshape\u001b[0m\u001b[0;34m(\u001b[0m\u001b[0;34m(\u001b[0m\u001b[0;36m12\u001b[0m\u001b[0;34m,\u001b[0m \u001b[0;36m1\u001b[0m\u001b[0;34m)\u001b[0m\u001b[0;34m)\u001b[0m\u001b[0;34m\u001b[0m\u001b[0;34m\u001b[0m\u001b[0m\n",
            "\u001b[0;31mNameError\u001b[0m: name 'monthly_growth_rate' is not defined"
          ]
        }
      ]
    },
    {
      "cell_type": "code",
      "source": [
        "# Find the mean sales projection multiplier for each industry\n",
        "mean_multipliers = monthly_industry_multipliers.mean(axis=0)\n",
        "print(mean_multipliers)\n",
        "\n",
        "# Print the shapes of mean_multipliers and monthly_sales\n",
        "print(mean_multipliers.shape, monthly_sales.shape)\n",
        "\n",
        "# Multiply each value by the multiplier for that industry\n",
        "projected_sales = monthly_sales * mean_multipliers\n",
        "print(projected_sales)"
      ],
      "metadata": {
        "colab": {
          "base_uri": "https://localhost:8080/"
        },
        "id": "SLwyNGxxEO0I",
        "outputId": "fafe3b67-7ab1-42f2-d0ed-c4ff378b2e7f"
      },
      "execution_count": 20,
      "outputs": [
        {
          "output_type": "stream",
          "name": "stdout",
          "text": [
            "[1.0775     1.00833333 0.99333333]\n",
            "(3,) (12, 3)\n",
            "[[ 4454.385      24124.375       8599.28666667]\n",
            " [ 4434.99       24073.95833333  9081.05333333]\n",
            " [ 5035.1575     27423.64166667 10574.03333333]\n",
            " [ 4934.95       25850.64166667 10386.29333333]\n",
            " [ 5504.9475     28228.29166667 11223.67333333]\n",
            " [ 5399.3525     27647.49166667 10554.16666667]\n",
            " [ 5651.4875     27532.54166667 10559.13333333]\n",
            " [ 5678.425      27991.33333333 11473.        ]\n",
            " [ 5042.7        25196.23333333  9696.92      ]\n",
            " [ 5293.7575     26017.01666667 10386.29333333]\n",
            " [ 5723.68       25616.70833333 13311.66      ]\n",
            " [ 7143.825      28028.64166667 18280.31333333]]\n"
          ]
        }
      ]
    },
    {
      "cell_type": "code",
      "source": [],
      "metadata": {
        "id": "uhNeu7QrGRIS"
      },
      "execution_count": null,
      "outputs": []
    }
  ]
}